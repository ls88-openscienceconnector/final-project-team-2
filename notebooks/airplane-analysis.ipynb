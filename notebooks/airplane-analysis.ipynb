{
 "cells": [
  {
   "cell_type": "markdown",
   "metadata": {
    "slideshow": {
     "slide_type": "slide"
    }
   },
   "source": [
    "# L&S 88 - Final Project - Airplane Etiquette Analysis\n",
    "_Anna Burns, Howard Yan, Jordan Bailey_\n",
    "\n",
    "In this notebook, we will attempt to reproduce the result of the analysis by Walt Hickey in his article _41 Percent Of Fliers Think You're Rude If You Recline Your Seat_ The original analysis is hosted [on FiveThirtyEight](https://fivethirtyeight.com/features/airplane-etiquette-recline-seat/). The original analysis computed statistics on survey data in an attempt to determine what the public feels is proper airplane etiquette.\n",
    "\n",
    "\n",
    "**Table of Contents**\n",
    "1. [Exploratory Data Analysis](#Exploratory-Data-Analysis)\n",
    "2. [Reproducing the Statistics](#Reproducing-the-Statistics)\n",
    "3. [A/B Testing Without Outliers](#A/B-Testing-Without-Outliers)\n",
    "4. [Reliability of the Data](#Reliability-of-the-Data)\n",
    "5. [Conclusions](#Conclusions)\n",
    "6. [Sources](#Sources)"
   ]
  },
  {
   "cell_type": "code",
   "execution_count": 2,
   "metadata": {},
   "outputs": [],
   "source": [
    "from datascience import *\n",
    "import pandas as pd\n",
    "import numpy as np\n",
    "import matplotlib.pyplot as plt\n",
    "%matplotlib inline\n",
    "plt.style.use('fivethirtyeight')"
   ]
  },
  {
   "cell_type": "markdown",
   "metadata": {
    "slideshow": {
     "slide_type": "slide"
    }
   },
   "source": [
    "## Exploratory Data Analysis\n",
    "\n",
    "We begin by loading in the dataset which was downloaded from Github."
   ]
  },
  {
   "cell_type": "code",
   "execution_count": 3,
   "metadata": {
    "scrolled": true,
    "slideshow": {
     "slide_type": "-"
    }
   },
   "outputs": [
    {
     "data": {
      "text/html": [
       "<table border=\"1\" class=\"dataframe\">\n",
       "    <thead>\n",
       "        <tr>\n",
       "            <th>RespondentID</th> <th>How often do you travel by plane?</th> <th>Do you ever recline your seat when you fly?</th> <th>How tall are you?</th> <th>Do you have any children under 18?</th> <th>In a row of three seats, who should get to use the two arm rests?</th> <th>In a row of two seats, who should get to use the middle arm rest?</th> <th>Who should have control over the window shade?</th> <th>Is itrude to move to an unsold seat on a plane?</th> <th>Generally speaking, is it rude to say more than a few words tothe stranger sitting next to you on a plane?</th> <th>On a 6 hour flight from NYC to LA, how many times is it acceptable to get up if you're not in an aisle seat?</th> <th>Under normal circumstances, does a person who reclines their seat during a flight have any obligation to the person sitting behind them?</th> <th>Is itrude to recline your seat on a plane?</th> <th>Given the opportunity, would you eliminate the possibility of reclining seats on planes entirely?</th> <th>Is it rude to ask someone to switch seats with you in order to be closer to friends?</th> <th>Is itrude to ask someone to switch seats with you in order to be closer to family?</th> <th>Is it rude to wake a passenger up if you are trying to go to the bathroom?</th> <th>Is itrude to wake a passenger up if you are trying to walk around?</th> <th>In general, is itrude to bring a baby on a plane?</th> <th>In general, is it rude to knowingly bring unruly children on a plane?</th> <th>Have you ever used personal electronics during take off or landing in violation of a flight attendant's direction?</th> <th>Have you ever smoked a cigarette in an airplane bathroom when it was against the rules?</th> <th>Gender</th> <th>Age</th> <th>Household Income</th> <th>Education</th> <th>Location (Census Region)</th>\n",
       "        </tr>\n",
       "    </thead>\n",
       "    <tbody>\n",
       "        <tr>\n",
       "            <td>3436139758  </td> <td>Once a year or less              </td> <td>nan                                        </td> <td>nan              </td> <td>nan                               </td> <td>nan                                                              </td> <td>nan                                                              </td> <td>nan                                                        </td> <td>nan                                            </td> <td>nan                                                                                                       </td> <td>nan                                                                                                         </td> <td>nan                                                                                                                                     </td> <td>nan                                       </td> <td>nan                                                                                              </td> <td>nan                                                                                 </td> <td>nan                                                                               </td> <td>nan                                                                       </td> <td>nan                                                               </td> <td>nan                                              </td> <td>nan                                                                  </td> <td>nan                                                                                                               </td> <td>nan                                                                                    </td> <td>nan   </td> <td>nan  </td> <td>nan                </td> <td>nan            </td> <td>nan                     </td>\n",
       "        </tr>\n",
       "        <tr>\n",
       "            <td>3434278696  </td> <td>Once a year or less              </td> <td>About half the time                        </td> <td>6'3\"             </td> <td>Yes                               </td> <td>The arm rests should be shared                                   </td> <td>The arm rests should be shared                                   </td> <td>Everyone in the row should have some say                   </td> <td>No, not rude at all                            </td> <td>No, not at all rude                                                                                       </td> <td>Twice                                                                                                       </td> <td>Yes, they should not recline their chair if the person behind them asks them not to                                                     </td> <td>Yes, somewhat rude                        </td> <td>No                                                                                               </td> <td>No, not at all rude                                                                 </td> <td>No, not at all rude                                                               </td> <td>No, not at all rude                                                       </td> <td>No, not at all rude                                               </td> <td>No, not at all rude                              </td> <td>No, not at all rude                                                  </td> <td>No                                                                                                                </td> <td>No                                                                                     </td> <td>Male  </td> <td>30-44</td> <td>nan                </td> <td>Graduate degree</td> <td>Pacific                 </td>\n",
       "        </tr>\n",
       "        <tr>\n",
       "            <td>3434275578  </td> <td>Once a year or less              </td> <td>Usually                                    </td> <td>5'8\"             </td> <td>No                                </td> <td>Whoever puts their arm on the arm rest first                     </td> <td>The arm rests should be shared                                   </td> <td>The person in the window seat should have exclusive control</td> <td>No, not rude at all                            </td> <td>No, not at all rude                                                                                       </td> <td>Three times                                                                                                 </td> <td>Yes, they should not recline their chair if the person behind them asks them not to                                                     </td> <td>No, not rude at all                       </td> <td>No                                                                                               </td> <td>No, not at all rude                                                                 </td> <td>No, not at all rude                                                               </td> <td>No, not at all rude                                                       </td> <td>Yes, somewhat rude                                                </td> <td>Yes, somewhat rude                               </td> <td>Yes, very rude                                                       </td> <td>No                                                                                                                </td> <td>No                                                                                     </td> <td>Male  </td> <td>30-44</td> <td>$100,000 - $149,999</td> <td>Bachelor degree</td> <td>Pacific                 </td>\n",
       "        </tr>\n",
       "        <tr>\n",
       "            <td>3434268208  </td> <td>Once a year or less              </td> <td>Always                                     </td> <td>5'11\"            </td> <td>No                                </td> <td>The arm rests should be shared                                   </td> <td>The arm rests should be shared                                   </td> <td>Everyone in the row should have some say                   </td> <td>No, not rude at all                            </td> <td>No, not at all rude                                                                                       </td> <td>Three times                                                                                                 </td> <td>No, the person on the flight has no obligation to the person behind them                                                                </td> <td>No, not rude at all                       </td> <td>No                                                                                               </td> <td>Yes, somewhat rude                                                                  </td> <td>No, not at all rude                                                               </td> <td>No, not at all rude                                                       </td> <td>Yes, somewhat rude                                                </td> <td>Yes, somewhat rude                               </td> <td>Yes, very rude                                                       </td> <td>No                                                                                                                </td> <td>No                                                                                     </td> <td>Male  </td> <td>30-44</td> <td>$0 - $24,999       </td> <td>Bachelor degree</td> <td>Pacific                 </td>\n",
       "        </tr>\n",
       "        <tr>\n",
       "            <td>3434250245  </td> <td>Once a month or less             </td> <td>About half the time                        </td> <td>5'7\"             </td> <td>No                                </td> <td>The person in the middle seat gets both arm rests                </td> <td>The person in aisle                                              </td> <td>Everyone in the row should have some say                   </td> <td>No, not rude at all                            </td> <td>No, not at all rude                                                                                       </td> <td>Twice                                                                                                       </td> <td>No, the person on the flight has no obligation to the person behind them                                                                </td> <td>No, not rude at all                       </td> <td>No                                                                                               </td> <td>No, not at all rude                                                                 </td> <td>No, not at all rude                                                               </td> <td>Yes, somewhat rude                                                        </td> <td>Yes, somewhat rude                                                </td> <td>Yes, somewhat rude                               </td> <td>Yes, very rude                                                       </td> <td>Yes                                                                                                               </td> <td>No                                                                                     </td> <td>Male  </td> <td>30-44</td> <td>$50,000 - $99,999  </td> <td>Bachelor degree</td> <td>Pacific                 </td>\n",
       "        </tr>\n",
       "    </tbody>\n",
       "</table>\n",
       "<p>... (1035 rows omitted)</p>"
      ],
      "text/plain": [
       "<IPython.core.display.HTML object>"
      ]
     },
     "metadata": {},
     "output_type": "display_data"
    }
   ],
   "source": [
    "data = Table.read_table('https://raw.githubusercontent.com/ls88-openscienceconnector/final-project-team-2/master/data/flying-etiquette.csv')\n",
    "data.show(5)"
   ]
  },
  {
   "cell_type": "markdown",
   "metadata": {},
   "source": [
    "In the article, Hickey only focuses on people who didn't answer \"Never\" to the question \"How often do you travel by plane?\". Here we remove those rows to clean the data."
   ]
  },
  {
   "cell_type": "code",
   "execution_count": 10,
   "metadata": {},
   "outputs": [
    {
     "data": {
      "text/plain": [
       "874"
      ]
     },
     "execution_count": 10,
     "metadata": {},
     "output_type": "execute_result"
    }
   ],
   "source": [
    "data= data.where(\"How often do you travel by plane?\", are.not_equal_to(\"Never\"))\n",
    "data.num_rows"
   ]
  },
  {
   "cell_type": "markdown",
   "metadata": {},
   "source": [
    "The article does not provide a lot of information of the types of responses they recieved. Here we do some exploratory analysis to see the demographics of the people who responded to the survey."
   ]
  },
  {
   "cell_type": "code",
   "execution_count": 3,
   "metadata": {
    "scrolled": true
   },
   "outputs": [
    {
     "data": {
      "image/png": "[encoded data removed]",
      "text/plain": [
       "<Figure size 432x288 with 1 Axes>"
      ]
     },
     "metadata": {},
     "output_type": "display_data"
    }
   ],
   "source": [
    "data.group(\"Gender\").barh(0)"
   ]
  },
  {
   "cell_type": "markdown",
   "metadata": {},
   "source": [
    "**Here, we observe there are more females than males in the dataset.**"
   ]
  },
  {
   "cell_type": "code",
   "execution_count": 6,
   "metadata": {},
   "outputs": [
    {
     "data": {
      "image/png": "[encoded data removed]",
      "text/plain": [
       "<Figure size 432x288 with 1 Axes>"
      ]
     },
     "metadata": {},
     "output_type": "display_data"
    }
   ],
   "source": [
    "data.group(\"Age\").bar(0)"
   ]
  },
  {
   "cell_type": "markdown",
   "metadata": {},
   "source": [
    "**The age is centered aroud 44-45.**"
   ]
  },
  {
   "cell_type": "code",
   "execution_count": 7,
   "metadata": {},
   "outputs": [
    {
     "data": {
      "image/png": "[encoded data removed]",
      "text/plain": [
       "<Figure size 432x288 with 1 Axes>"
      ]
     },
     "metadata": {},
     "output_type": "display_data"
    }
   ],
   "source": [
    "data.group(\"Household Income\").with_column(\"order\", make_array(0, 3, 1,  2, 4, 5)).sort(\"order\").drop(\"order\").barh(0)"
   ]
  },
  {
   "cell_type": "markdown",
   "metadata": {},
   "source": [
    "**The household income is centered around 50-99,000 per year.**"
   ]
  },
  {
   "cell_type": "code",
   "execution_count": 8,
   "metadata": {},
   "outputs": [
    {
     "data": {
      "text/html": [
       "<table border=\"1\" class=\"dataframe\">\n",
       "    <thead>\n",
       "        <tr>\n",
       "            <th>Education</th> <th>count</th>\n",
       "        </tr>\n",
       "    </thead>\n",
       "    <tbody>\n",
       "        <tr>\n",
       "            <td>Bachelor degree                 </td> <td>279  </td>\n",
       "        </tr>\n",
       "        <tr>\n",
       "            <td>Graduate degree                 </td> <td>265  </td>\n",
       "        </tr>\n",
       "        <tr>\n",
       "            <td>High school degree              </td> <td>61   </td>\n",
       "        </tr>\n",
       "        <tr>\n",
       "            <td>Less than high school degree    </td> <td>6    </td>\n",
       "        </tr>\n",
       "        <tr>\n",
       "            <td>Some college or Associate degree</td> <td>226  </td>\n",
       "        </tr>\n",
       "        <tr>\n",
       "            <td>nan                             </td> <td>37   </td>\n",
       "        </tr>\n",
       "    </tbody>\n",
       "</table>"
      ],
      "text/plain": [
       "Education                        | count\n",
       "Bachelor degree                  | 279\n",
       "Graduate degree                  | 265\n",
       "High school degree               | 61\n",
       "Less than high school degree     | 6\n",
       "Some college or Associate degree | 226\n",
       "nan                              | 37"
      ]
     },
     "execution_count": 8,
     "metadata": {},
     "output_type": "execute_result"
    }
   ],
   "source": [
    "data.group(\"Education\")"
   ]
  },
  {
   "cell_type": "code",
   "execution_count": 9,
   "metadata": {
    "scrolled": true
   },
   "outputs": [
    {
     "data": {
      "text/html": [
       "<table border=\"1\" class=\"dataframe\">\n",
       "    <thead>\n",
       "        <tr>\n",
       "            <th>Location (Census Region)</th> <th>count</th>\n",
       "        </tr>\n",
       "    </thead>\n",
       "    <tbody>\n",
       "        <tr>\n",
       "            <td>East North Central      </td> <td>122  </td>\n",
       "        </tr>\n",
       "        <tr>\n",
       "            <td>East South Central      </td> <td>25   </td>\n",
       "        </tr>\n",
       "        <tr>\n",
       "            <td>Middle Atlantic         </td> <td>111  </td>\n",
       "        </tr>\n",
       "        <tr>\n",
       "            <td>Mountain                </td> <td>54   </td>\n",
       "        </tr>\n",
       "        <tr>\n",
       "            <td>New England             </td> <td>55   </td>\n",
       "        </tr>\n",
       "        <tr>\n",
       "            <td>Pacific                 </td> <td>185  </td>\n",
       "        </tr>\n",
       "        <tr>\n",
       "            <td>South Atlantic          </td> <td>138  </td>\n",
       "        </tr>\n",
       "        <tr>\n",
       "            <td>West North Central      </td> <td>66   </td>\n",
       "        </tr>\n",
       "        <tr>\n",
       "            <td>West South Central      </td> <td>81   </td>\n",
       "        </tr>\n",
       "        <tr>\n",
       "            <td>nan                     </td> <td>37   </td>\n",
       "        </tr>\n",
       "    </tbody>\n",
       "</table>"
      ],
      "text/plain": [
       "Location (Census Region) | count\n",
       "East North Central       | 122\n",
       "East South Central       | 25\n",
       "Middle Atlantic          | 111\n",
       "Mountain                 | 54\n",
       "New England              | 55\n",
       "Pacific                  | 185\n",
       "South Atlantic           | 138\n",
       "West North Central       | 66\n",
       "West South Central       | 81\n",
       "nan                      | 37"
      ]
     },
     "execution_count": 9,
     "metadata": {},
     "output_type": "execute_result"
    }
   ],
   "source": [
    "data.group(\"Location (Census Region)\")"
   ]
  },
  {
   "cell_type": "markdown",
   "metadata": {},
   "source": [
    "**What about for those who had never took an airplane ride? Can we find any additional information about this group, since it was included in the data? Let's filter the original data including NaN values.**"
   ]
  },
  {
   "cell_type": "code",
   "execution_count": 10,
   "metadata": {},
   "outputs": [
    {
     "data": {
      "text/html": [
       "<table border=\"1\" class=\"dataframe\">\n",
       "    <thead>\n",
       "        <tr>\n",
       "            <th>Do you ever recline your seat when you fly?</th> <th>How tall are you?</th> <th>Do you have any children under 18?</th> <th>In a row of three seats, who should get to use the two arm rests?</th> <th>In a row of two seats, who should get to use the middle arm rest?</th> <th>Who should have control over the window shade?</th> <th>Is itrude to move to an unsold seat on a plane?</th> <th>Generally speaking, is it rude to say more than a few words tothe stranger sitting next to you on a plane?</th> <th>On a 6 hour flight from NYC to LA, how many times is it acceptable to get up if you're not in an aisle seat?</th> <th>Under normal circumstances, does a person who reclines their seat during a flight have any obligation to the person sitting behind them?</th> <th>Is itrude to recline your seat on a plane?</th> <th>Given the opportunity, would you eliminate the possibility of reclining seats on planes entirely?</th> <th>Is it rude to ask someone to switch seats with you in order to be closer to friends?</th> <th>Is itrude to ask someone to switch seats with you in order to be closer to family?</th> <th>Is it rude to wake a passenger up if you are trying to go to the bathroom?</th> <th>Is itrude to wake a passenger up if you are trying to walk around?</th> <th>In general, is itrude to bring a baby on a plane?</th> <th>In general, is it rude to knowingly bring unruly children on a plane?</th> <th>Have you ever used personal electronics during take off or landing in violation of a flight attendant's direction?</th> <th>Have you ever smoked a cigarette in an airplane bathroom when it was against the rules?</th>\n",
       "        </tr>\n",
       "    </thead>\n",
       "    <tbody>\n",
       "        <tr>\n",
       "            <td>nan                                        </td> <td>nan              </td> <td>nan                               </td> <td>nan                                                              </td> <td>nan                                                              </td> <td>nan                                           </td> <td>nan                                            </td> <td>nan                                                                                                       </td> <td>nan                                                                                                         </td> <td>nan                                                                                                                                     </td> <td>nan                                       </td> <td>nan                                                                                              </td> <td>nan                                                                                 </td> <td>nan                                                                               </td> <td>nan                                                                       </td> <td>nan                                                               </td> <td>nan                                              </td> <td>nan                                                                  </td> <td>nan                                                                                                               </td> <td>nan                                                                                    </td>\n",
       "        </tr>\n",
       "        <tr>\n",
       "            <td>nan                                        </td> <td>nan              </td> <td>nan                               </td> <td>nan                                                              </td> <td>nan                                                              </td> <td>nan                                           </td> <td>nan                                            </td> <td>nan                                                                                                       </td> <td>nan                                                                                                         </td> <td>nan                                                                                                                                     </td> <td>nan                                       </td> <td>nan                                                                                              </td> <td>nan                                                                                 </td> <td>nan                                                                               </td> <td>nan                                                                       </td> <td>nan                                                               </td> <td>nan                                              </td> <td>nan                                                                  </td> <td>nan                                                                                                               </td> <td>nan                                                                                    </td>\n",
       "        </tr>\n",
       "        <tr>\n",
       "            <td>nan                                        </td> <td>nan              </td> <td>nan                               </td> <td>nan                                                              </td> <td>nan                                                              </td> <td>nan                                           </td> <td>nan                                            </td> <td>nan                                                                                                       </td> <td>nan                                                                                                         </td> <td>nan                                                                                                                                     </td> <td>nan                                       </td> <td>nan                                                                                              </td> <td>nan                                                                                 </td> <td>nan                                                                               </td> <td>nan                                                                       </td> <td>nan                                                               </td> <td>nan                                              </td> <td>nan                                                                  </td> <td>nan                                                                                                               </td> <td>nan                                                                                    </td>\n",
       "        </tr>\n",
       "        <tr>\n",
       "            <td>nan                                        </td> <td>nan              </td> <td>nan                               </td> <td>nan                                                              </td> <td>nan                                                              </td> <td>nan                                           </td> <td>nan                                            </td> <td>nan                                                                                                       </td> <td>nan                                                                                                         </td> <td>nan                                                                                                                                     </td> <td>nan                                       </td> <td>nan                                                                                              </td> <td>nan                                                                                 </td> <td>nan                                                                               </td> <td>nan                                                                       </td> <td>nan                                                               </td> <td>nan                                              </td> <td>nan                                                                  </td> <td>nan                                                                                                               </td> <td>nan                                                                                    </td>\n",
       "        </tr>\n",
       "        <tr>\n",
       "            <td>nan                                        </td> <td>nan              </td> <td>nan                               </td> <td>nan                                                              </td> <td>nan                                                              </td> <td>nan                                           </td> <td>nan                                            </td> <td>nan                                                                                                       </td> <td>nan                                                                                                         </td> <td>nan                                                                                                                                     </td> <td>nan                                       </td> <td>nan                                                                                              </td> <td>nan                                                                                 </td> <td>nan                                                                               </td> <td>nan                                                                       </td> <td>nan                                                               </td> <td>nan                                              </td> <td>nan                                                                  </td> <td>nan                                                                                                               </td> <td>nan                                                                                    </td>\n",
       "        </tr>\n",
       "    </tbody>\n",
       "</table>\n",
       "<p>... (161 rows omitted)</p>"
      ],
      "text/plain": [
       "<IPython.core.display.HTML object>"
      ]
     },
     "metadata": {},
     "output_type": "display_data"
    }
   ],
   "source": [
    "data_original = Table.read_table('https://raw.githubusercontent.com/ls88-openscienceconnector/final-project-team-2/master/data/flying-etiquette.csv')\n",
    "data_original = data_original.where(\"How often do you travel by plane?\", \"Never\").drop([0,1,22, 23,24,25, 26])\n",
    "data_original.show(5)"
   ]
  },
  {
   "cell_type": "markdown",
   "metadata": {},
   "source": [
    "**There are lots of NaN values here! Just to be sure, did all people who said \"Never\", had no responses to any of the questions?**"
   ]
  },
  {
   "cell_type": "code",
   "execution_count": 11,
   "metadata": {},
   "outputs": [
    {
     "data": {
      "text/plain": [
       "True"
      ]
     },
     "execution_count": 11,
     "metadata": {},
     "output_type": "execute_result"
    }
   ],
   "source": [
    "def allcontainsNan(x):\n",
    "    for col in x:\n",
    "        if \"nan\" not in x.column(col):\n",
    "            return False\n",
    "    return True\n",
    "allcontainsNan(data_original)"
   ]
  },
  {
   "cell_type": "markdown",
   "metadata": {},
   "source": [
    "**Of course! Now, lets see the demographics of those who responded \"Never\" from the data.**"
   ]
  },
  {
   "cell_type": "code",
   "execution_count": 12,
   "metadata": {},
   "outputs": [
    {
     "data": {
      "image/png": "[encoded data removed]",
      "text/plain": [
       "<Figure size 432x288 with 1 Axes>"
      ]
     },
     "metadata": {},
     "output_type": "display_data"
    },
    {
     "data": {
      "image/png": "[encoded data removed]",
      "text/plain": [
       "<Figure size 432x288 with 1 Axes>"
      ]
     },
     "metadata": {},
     "output_type": "display_data"
    },
    {
     "data": {
      "image/png": "[encoded data removed]",
      "text/plain": [
       "<Figure size 432x288 with 1 Axes>"
      ]
     },
     "metadata": {},
     "output_type": "display_data"
    },
    {
     "data": {
      "image/png": "[encoded data removed]",
      "text/plain": [
       "<Figure size 432x288 with 1 Axes>"
      ]
     },
     "metadata": {},
     "output_type": "display_data"
    },
    {
     "data": {
      "image/png": "[encoded data removed]",
      "text/plain": [
       "<Figure size 432x360 with 1 Axes>"
      ]
     },
     "metadata": {},
     "output_type": "display_data"
    }
   ],
   "source": [
    "data_original = Table.read_table('https://raw.githubusercontent.com/ls88-openscienceconnector/final-project-team-2/master/data/flying-etiquette.csv')\n",
    "data_original = data_original.where(\"How often do you travel by plane?\", \"Never\")\n",
    "\n",
    "data_original.group(\"Gender\").barh(0)\n",
    "data_original.group(\"Age\").bar(0)\n",
    "data_original.group(\"Household Income\").with_column(\"order\", make_array(0, 3, 1,  2, 4, 5)).sort(\"order\").drop(\"order\").barh(0)\n",
    "data_original.group(\"Education\").barh(0)\n",
    "data_original.group(\"Location (Census Region)\").barh(0)"
   ]
  },
  {
   "cell_type": "markdown",
   "metadata": {},
   "source": [
    "**Based on these demographics...**\n",
    "\n",
    "1. There are slightly more females than men who responded with \"Never\".\n",
    "2. Those who are **younger** (millenials) are more likely to never been in an airplane ride.\n",
    "3. Those who are living in **lower income** are more likely to never been in an airplane ride (affordability factor?).\n",
    "4. More people who have **some college or an Associates degree** have never been in an airplane ride. (cost factors from tuition fees?)\n",
    "5. More people who are from the **Pacific** have never been in an airplane ride.\n",
    "\n",
    "\n",
    "## Is the distrubution those who have never flown an airplane in the survey the same as whole US population? \n",
    "Based on a 2016 article entitled, \n",
    "[How Much of the World’s Population Has Flown in an Airplane?](https://www.airspacemag.com/daily-planet/how-much-worlds-population-has-flown-airplane-180957719/), the Omnibus Household Survey conducted by the U.S. Bureau of Transportation Statistics that estimated from 2003, 18% of Americans said they had never flown in their life. There is a lot of estimation an guess involved since there isn't concrete data for everyone's experience of flight, but we do have the information from the survey. **Does the survey's sample represent the probability of all Americans who have never flown on an airplane?** Let's create a null and an alternative hypothesis.\n",
    "\n",
    "\n",
    "**Null hypothesis:** The probability distribution of a person from the data set that has never been in an airplane is equivalent to the distribution of the US. Any difference is due to chance.\n",
    "\n",
    "**Alternative hypothesis:** The probability is different for both the sample and the US population."
   ]
  },
  {
   "cell_type": "markdown",
   "metadata": {},
   "source": [
    "**Let's find out the observed value in the dataset for those who has never flown by finding the proportion of those who haven't been and the total people in the survey.**"
   ]
  },
  {
   "cell_type": "code",
   "execution_count": 13,
   "metadata": {},
   "outputs": [
    {
     "data": {
      "text/plain": [
       "0.18993135011441648"
      ]
     },
     "execution_count": 13,
     "metadata": {},
     "output_type": "execute_result"
    }
   ],
   "source": [
    "observed_never_flown = (data_original.num_rows / data.num_rows)\n",
    "observed_never_flown"
   ]
  },
  {
   "cell_type": "markdown",
   "metadata": {},
   "source": [
    "**Now, we will return a simulated test statistic by sampling proportions based on our null hypothesis (18%) and finding the distance between our observed value and the simulated null statistic.**"
   ]
  },
  {
   "cell_type": "code",
   "execution_count": 14,
   "metadata": {},
   "outputs": [
    {
     "data": {
      "text/plain": [
       "0.012585812356979392"
      ]
     },
     "execution_count": 14,
     "metadata": {},
     "output_type": "execute_result"
    }
   ],
   "source": [
    "proportions = make_array(.82, .18)\n",
    "\n",
    "def test_statistic():\n",
    "    simulated_stat = sample_proportions(data.num_rows, proportions).item(1)\n",
    "    return observed_never_flown - simulated_stat\n",
    "test_statistic()"
   ]
  },
  {
   "cell_type": "markdown",
   "metadata": {},
   "source": [
    "**Now we will use test statistic to simulate 10,000 times under our null hypothesis of distances between our observed values.**"
   ]
  },
  {
   "cell_type": "code",
   "execution_count": 15,
   "metadata": {},
   "outputs": [
    {
     "data": {
      "text/plain": [
       "array([0.00915332, 0.00114416, 0.02745995, ..., 0.02402746, 0.01144165,\n",
       "       0.03089245])"
      ]
     },
     "execution_count": 15,
     "metadata": {},
     "output_type": "execute_result"
    }
   ],
   "source": [
    "simulation = make_array()\n",
    "\n",
    "for i in np.arange(10000): \n",
    "    simulated_stat = test_statistic()\n",
    "    simulation = np.append(simulated_stat, simulation)\n",
    "    \n",
    "simulation"
   ]
  },
  {
   "cell_type": "markdown",
   "metadata": {},
   "source": [
    "**Now let make a histogram of our array of test statistics simulation! Our observed value from the sample is the red dot.**"
   ]
  },
  {
   "cell_type": "code",
   "execution_count": 16,
   "metadata": {},
   "outputs": [
    {
     "data": {
      "image/png": "[encoded data removed]",
      "text/plain": [
       "<Figure size 432x288 with 1 Axes>"
      ]
     },
     "metadata": {},
     "output_type": "display_data"
    }
   ],
   "source": [
    "simulation_table = Table().with_column('Simulation', simulation).hist()\n",
    "plt.scatter(observed_never_flown, 0, color='red', s=30);"
   ]
  },
  {
   "cell_type": "markdown",
   "metadata": {},
   "source": [
    "**Obviously in this graph, our P-value is 0, therefore this is statistically significant and we can easily reject the null hypothesis. Therefore, our simulation shows that our sample does not represent the distribution of the US population.**"
   ]
  },
  {
   "cell_type": "code",
   "execution_count": 17,
   "metadata": {
    "scrolled": true
   },
   "outputs": [
    {
     "name": "stdout",
     "output_type": "stream",
     "text": [
      "Our 95% confidence interval is [-0.01601830663615561,0.03546910755148741]\n"
     ]
    }
   ],
   "source": [
    "low_per = percentile(2.5, simulation)\n",
    "high_per = percentile(97.5, simulation)\n",
    "\n",
    "print(\"Our 95% confidence interval is [\" + str(low_per) + \",\" + str(high_per) + \"]\")"
   ]
  },
  {
   "cell_type": "markdown",
   "metadata": {},
   "source": [
    "**Our 95% confidence interval is (-0.01, 0.03). Our observed value (0.18) is higher than the 95% confidence interval, therefore we can say that the sample overestimates the amount of people who has never flown in an airplane.**"
   ]
  },
  {
   "cell_type": "markdown",
   "metadata": {},
   "source": [
    "## Reproducing the Statistics\n",
    "In this section, we will go through each claim of the article and recalculate their statistics. The methods are outlined for the first claim, then streamlined into a function to be repeated for the remaining claims."
   ]
  },
  {
   "cell_type": "markdown",
   "metadata": {},
   "source": [
    "**The first claim from the article:** \"Let’s first tackle the question of reclining seats. Of 858 respondents, 16 percent always recline, 20 percent usually do, 14 percent recline about half the time, 30 percent do only once in a while, and 20 percent never recline.\""
   ]
  },
  {
   "cell_type": "markdown",
   "metadata": {},
   "source": [
    "_The first step is to select the particular question we're interested in and remove the \"nan\" values (people who didn't answer the question)_"
   ]
  },
  {
   "cell_type": "code",
   "execution_count": 18,
   "metadata": {},
   "outputs": [
    {
     "data": {
      "text/html": [
       "<table border=\"1\" class=\"dataframe\">\n",
       "    <thead>\n",
       "        <tr>\n",
       "            <th>Do you ever recline your seat when you fly?</th>\n",
       "        </tr>\n",
       "    </thead>\n",
       "    <tbody>\n",
       "        <tr>\n",
       "            <td>About half the time                        </td>\n",
       "        </tr>\n",
       "        <tr>\n",
       "            <td>Usually                                    </td>\n",
       "        </tr>\n",
       "        <tr>\n",
       "            <td>Always                                     </td>\n",
       "        </tr>\n",
       "        <tr>\n",
       "            <td>About half the time                        </td>\n",
       "        </tr>\n",
       "        <tr>\n",
       "            <td>Usually                                    </td>\n",
       "        </tr>\n",
       "    </tbody>\n",
       "</table>\n",
       "<p>... (853 rows omitted)</p>"
      ],
      "text/plain": [
       "<IPython.core.display.HTML object>"
      ]
     },
     "metadata": {},
     "output_type": "display_data"
    }
   ],
   "source": [
    "seats_no_na = data.select(\"Do you ever recline your seat when you fly?\").where(0, are.not_equal_to(\"nan\"))\n",
    "seats_no_na.show(5)"
   ]
  },
  {
   "cell_type": "markdown",
   "metadata": {},
   "source": [
    "_Next, we group the responses to get a count for each response, then convert that count into a percentage._"
   ]
  },
  {
   "cell_type": "code",
   "execution_count": 19,
   "metadata": {
    "scrolled": true
   },
   "outputs": [
    {
     "data": {
      "text/html": [
       "<table border=\"1\" class=\"dataframe\">\n",
       "    <thead>\n",
       "        <tr>\n",
       "            <th>Do you ever recline your seat when you fly?</th> <th>Percentages</th>\n",
       "        </tr>\n",
       "    </thead>\n",
       "    <tbody>\n",
       "        <tr>\n",
       "            <td>About half the time                        </td> <td>13.7529    </td>\n",
       "        </tr>\n",
       "        <tr>\n",
       "            <td>Always                                     </td> <td>15.9674    </td>\n",
       "        </tr>\n",
       "        <tr>\n",
       "            <td>Never                                      </td> <td>19.9301    </td>\n",
       "        </tr>\n",
       "        <tr>\n",
       "            <td>Once in a while                            </td> <td>29.9534    </td>\n",
       "        </tr>\n",
       "        <tr>\n",
       "            <td>Usually                                    </td> <td>20.3963    </td>\n",
       "        </tr>\n",
       "    </tbody>\n",
       "</table>"
      ],
      "text/plain": [
       "Do you ever recline your seat when you fly? | Percentages\n",
       "About half the time                         | 13.7529\n",
       "Always                                      | 15.9674\n",
       "Never                                       | 19.9301\n",
       "Once in a while                             | 29.9534\n",
       "Usually                                     | 20.3963"
      ]
     },
     "execution_count": 19,
     "metadata": {},
     "output_type": "execute_result"
    }
   ],
   "source": [
    "seats_percentages = seats_no_na.group(0)\n",
    "sum_to_perc = seats_percentages.column(\"count\") / seats_no_na.num_rows\n",
    "seats_percentages = seats_percentages.with_column(\"Percentages\", sum_to_perc * 100).drop(\"count\")\n",
    "seats_percentages"
   ]
  },
  {
   "cell_type": "markdown",
   "metadata": {},
   "source": [
    "_This plot helps visualize the results we found._"
   ]
  },
  {
   "cell_type": "code",
   "execution_count": 20,
   "metadata": {
    "scrolled": true
   },
   "outputs": [
    {
     "data": {
      "image/png": "[encoded data removed]",
      "text/plain": [
       "<Figure size 432x288 with 1 Axes>"
      ]
     },
     "metadata": {},
     "output_type": "display_data"
    }
   ],
   "source": [
    "seats_percentages.barh(0)"
   ]
  },
  {
   "cell_type": "markdown",
   "metadata": {},
   "source": [
    "Here, we define a function to streamline the analysis process. We can simply insert the question label and get back a table of the percentages of respondants' answers."
   ]
  },
  {
   "cell_type": "code",
   "execution_count": 21,
   "metadata": {},
   "outputs": [],
   "source": [
    "def percentages_from_label(col_label):\n",
    "    no_na_data = data.select(col_label).where(0, are.not_equal_to(\"nan\"))\n",
    "    print(str(np.round(100 * no_na_data.num_rows / data.num_rows, decimals = 2)) + \"% (\" + str(no_na_data.num_rows) + \"/874) of those surveyed answered the question\")\n",
    "    grouped_tbl = no_na_data.group(0)\n",
    "    count_to_perc = grouped_tbl.column(\"count\") / no_na_data.num_rows\n",
    "    tbl_w_percentages = grouped_tbl.with_column(\"Percentages\", count_to_perc * 100).drop(\"count\")\n",
    "    return tbl_w_percentages"
   ]
  },
  {
   "cell_type": "markdown",
   "metadata": {},
   "source": [
    "**Claim from article:** \"Only 41 percent of respondents thought it was very or somewhat rude to recline your seat during a flight.\""
   ]
  },
  {
   "cell_type": "code",
   "execution_count": 23,
   "metadata": {
    "scrolled": true
   },
   "outputs": [
    {
     "name": "stdout",
     "output_type": "stream",
     "text": [
      "97.71% (854/874) of those surveyed answered the question\n"
     ]
    },
    {
     "data": {
      "text/html": [
       "<table border=\"1\" class=\"dataframe\">\n",
       "    <thead>\n",
       "        <tr>\n",
       "            <th>Is itrude to recline your seat on a plane?</th> <th>Percentages</th>\n",
       "        </tr>\n",
       "    </thead>\n",
       "    <tbody>\n",
       "        <tr>\n",
       "            <td>No, not rude at all                       </td> <td>58.7822    </td>\n",
       "        </tr>\n",
       "        <tr>\n",
       "            <td>Yes, somewhat rude                        </td> <td>32.904     </td>\n",
       "        </tr>\n",
       "        <tr>\n",
       "            <td>Yes, very rude                            </td> <td>8.31382    </td>\n",
       "        </tr>\n",
       "    </tbody>\n",
       "</table>"
      ],
      "text/plain": [
       "Is itrude to recline your seat on a plane? | Percentages\n",
       "No, not rude at all                        | 58.7822\n",
       "Yes, somewhat rude                         | 32.904\n",
       "Yes, very rude                             | 8.31382"
      ]
     },
     "execution_count": 23,
     "metadata": {},
     "output_type": "execute_result"
    }
   ],
   "source": [
    "percentages_from_label(\"Is itrude to recline your seat on a plane?\")"
   ]
  },
  {
   "cell_type": "markdown",
   "metadata": {},
   "source": [
    "**Claim from article:** \"Most people (70 percent) said they would not eliminate the option to recline seats on flights. \""
   ]
  },
  {
   "cell_type": "code",
   "execution_count": 24,
   "metadata": {},
   "outputs": [
    {
     "name": "stdout",
     "output_type": "stream",
     "text": [
      "97.71% (854/874) of those surveyed answered the question\n"
     ]
    },
    {
     "data": {
      "text/html": [
       "<table border=\"1\" class=\"dataframe\">\n",
       "    <thead>\n",
       "        <tr>\n",
       "            <th>Given the opportunity, would you eliminate the possibility of reclining seats on planes entirely?</th> <th>Percentages</th>\n",
       "        </tr>\n",
       "    </thead>\n",
       "    <tbody>\n",
       "        <tr>\n",
       "            <td>No                                                                                               </td> <td>69.6721    </td>\n",
       "        </tr>\n",
       "        <tr>\n",
       "            <td>Yes                                                                                              </td> <td>30.3279    </td>\n",
       "        </tr>\n",
       "    </tbody>\n",
       "</table>"
      ],
      "text/plain": [
       "Given the opportunity, would you eliminate the possibility of reclining seats on planes entirely? | Percentages\n",
       "No                                                                                                | 69.6721\n",
       "Yes                                                                                               | 30.3279"
      ]
     },
     "execution_count": 24,
     "metadata": {},
     "output_type": "execute_result"
    }
   ],
   "source": [
    "percentages_from_label(\"Given the opportunity, would you eliminate the possibility of reclining seats on planes entirely?\")"
   ]
  },
  {
   "cell_type": "markdown",
   "metadata": {},
   "source": [
    "**Claim from article:** \"\\[...\\] most people (64 percent) also said passengers should not recline if the flier behind them asks them not to. The rest of them said a passenger has no obligation to the person behind them.\""
   ]
  },
  {
   "cell_type": "code",
   "execution_count": 25,
   "metadata": {},
   "outputs": [
    {
     "name": "stdout",
     "output_type": "stream",
     "text": [
      "97.71% (854/874) of those surveyed answered the question\n"
     ]
    },
    {
     "data": {
      "text/html": [
       "<table border=\"1\" class=\"dataframe\">\n",
       "    <thead>\n",
       "        <tr>\n",
       "            <th>Under normal circumstances, does a person who reclines their seat during a flight have any obligation to the person sitting behind them?</th> <th>Percentages</th>\n",
       "        </tr>\n",
       "    </thead>\n",
       "    <tbody>\n",
       "        <tr>\n",
       "            <td>No, the person on the flight has no obligation to the person behind them                                                                </td> <td>36.4169    </td>\n",
       "        </tr>\n",
       "        <tr>\n",
       "            <td>Yes, they should not recline their chair if the person behind them asks them not to                                                     </td> <td>63.5831    </td>\n",
       "        </tr>\n",
       "    </tbody>\n",
       "</table>"
      ],
      "text/plain": [
       "Under normal circumstances, does a person who reclines their seat during a flight have any obligation to the person sitting behind them? | Percentages\n",
       "No, the person on the flight has no obligation to the person behind them                                                                 | 36.4169\n",
       "Yes, they should not recline their chair if the person behind them asks them not to                                                      | 63.5831"
      ]
     },
     "execution_count": 25,
     "metadata": {},
     "output_type": "execute_result"
    }
   ],
   "source": [
    "percentages_from_label('Under normal circumstances, does a person who reclines their seat during a flight have any obligation to the person sitting behind them?')"
   ]
  },
  {
   "cell_type": "markdown",
   "metadata": {},
   "source": [
    "**Graph displayed from article:** \"We also asked people about common aggravating behaviors on flights to determine whether those actions were very rude, somewhat rude or not rude at all.\"\n",
    "![Rudeness Scale Graph](../images/hickey-datalab-flying.png)"
   ]
  },
  {
   "cell_type": "markdown",
   "metadata": {},
   "source": [
    "**Claim from article:** \"Interestingly, people’s responses to questions about kids depended a lot on whether they had children younger than 18. Only 21 percent of 188 parents thought bringing unruly children on a plane was “very rude,” compared to 47 percent of the 657 people without kids. Passengers without children under 18 were three times as likely to consider bringing a baby on a plane very or somewhat rude than people with kids.\""
   ]
  },
  {
   "cell_type": "code",
   "execution_count": 26,
   "metadata": {},
   "outputs": [
    {
     "name": "stdout",
     "output_type": "stream",
     "text": [
      "97.14% (849/874) of those surveyed answered the question\n"
     ]
    },
    {
     "data": {
      "text/html": [
       "<table border=\"1\" class=\"dataframe\">\n",
       "    <thead>\n",
       "        <tr>\n",
       "            <th>In general, is it rude to knowingly bring unruly children on a plane?</th> <th>Percentages</th>\n",
       "        </tr>\n",
       "    </thead>\n",
       "    <tbody>\n",
       "        <tr>\n",
       "            <td>No, not at all rude                                                  </td> <td>17.3145    </td>\n",
       "        </tr>\n",
       "        <tr>\n",
       "            <td>Yes, somewhat rude                                                   </td> <td>41.3428    </td>\n",
       "        </tr>\n",
       "        <tr>\n",
       "            <td>Yes, very rude                                                       </td> <td>41.3428    </td>\n",
       "        </tr>\n",
       "    </tbody>\n",
       "</table>"
      ],
      "text/plain": [
       "In general, is it rude to knowingly bring unruly children on a plane? | Percentages\n",
       "No, not at all rude                                                   | 17.3145\n",
       "Yes, somewhat rude                                                    | 41.3428\n",
       "Yes, very rude                                                        | 41.3428"
      ]
     },
     "execution_count": 26,
     "metadata": {},
     "output_type": "execute_result"
    }
   ],
   "source": [
    "percentages_from_label('In general, is it rude to knowingly bring unruly children on a plane?')"
   ]
  },
  {
   "cell_type": "markdown",
   "metadata": {},
   "source": [
    "**Claim from article:** \"Only 14 percent of fliers said that, in a row with three seats, the person seated in the middle got both arm rests. Ten percent of respondents are fascists who said whoever puts their arm on the arm rest first gets it; 2 percent are sadists who think the people in the aisle and window seats get both arm rests; and 67 percent are socialists who think they should be shared. Five percent responded “other” and wrote in responses such as “whoever is largest” or “the youngest child” or “me.”\""
   ]
  },
  {
   "cell_type": "code",
   "execution_count": 27,
   "metadata": {},
   "outputs": [
    {
     "name": "stdout",
     "output_type": "stream",
     "text": [
      "97.94% (856/874) of those surveyed answered the question\n"
     ]
    },
    {
     "data": {
      "text/html": [
       "<table border=\"1\" class=\"dataframe\">\n",
       "    <thead>\n",
       "        <tr>\n",
       "            <th>In a row of three seats, who should get to use the two arm rests?</th> <th>Percentages</th>\n",
       "        </tr>\n",
       "    </thead>\n",
       "    <tbody>\n",
       "        <tr>\n",
       "            <td>Other (please specify)                                           </td> <td>5.25701    </td>\n",
       "        </tr>\n",
       "        <tr>\n",
       "            <td>The arm rests should be shared                                   </td> <td>68.5748    </td>\n",
       "        </tr>\n",
       "        <tr>\n",
       "            <td>The people in the aisle and window seats get both arm rests      </td> <td>2.1028     </td>\n",
       "        </tr>\n",
       "        <tr>\n",
       "            <td>The person in the middle seat gets both arm rests                </td> <td>13.9019    </td>\n",
       "        </tr>\n",
       "        <tr>\n",
       "            <td>Whoever puts their arm on the arm rest first                     </td> <td>10.1636    </td>\n",
       "        </tr>\n",
       "    </tbody>\n",
       "</table>"
      ],
      "text/plain": [
       "In a row of three seats, who should get to use the two arm rests? | Percentages\n",
       "Other (please specify)                                            | 5.25701\n",
       "The arm rests should be shared                                    | 68.5748\n",
       "The people in the aisle and window seats get both arm rests       | 2.1028\n",
       "The person in the middle seat gets both arm rests                 | 13.9019\n",
       "Whoever puts their arm on the arm rest first                      | 10.1636"
      ]
     },
     "execution_count": 27,
     "metadata": {},
     "output_type": "execute_result"
    }
   ],
   "source": [
    "percentages_from_label('In a row of three seats, who should get to use the two arm rests?')"
   ]
  },
  {
   "cell_type": "markdown",
   "metadata": {},
   "source": [
    "**Claim from article:** \"Forty-two percent of respondents acknowledged that the person in the window seat should control the shade, and 58 percent thought everyone should have a say in the shade’s status.\""
   ]
  },
  {
   "cell_type": "code",
   "execution_count": 28,
   "metadata": {
    "scrolled": true
   },
   "outputs": [
    {
     "name": "stdout",
     "output_type": "stream",
     "text": [
      "97.94% (856/874) of those surveyed answered the question\n"
     ]
    },
    {
     "data": {
      "text/html": [
       "<table border=\"1\" class=\"dataframe\">\n",
       "    <thead>\n",
       "        <tr>\n",
       "            <th>Who should have control over the window shade?</th> <th>Percentages</th>\n",
       "        </tr>\n",
       "    </thead>\n",
       "    <tbody>\n",
       "        <tr>\n",
       "            <td>Everyone in the row should have some say                   </td> <td>57.8271    </td>\n",
       "        </tr>\n",
       "        <tr>\n",
       "            <td>The person in the window seat should have exclusive control</td> <td>42.1729    </td>\n",
       "        </tr>\n",
       "    </tbody>\n",
       "</table>"
      ],
      "text/plain": [
       "Who should have control over the window shade?              | Percentages\n",
       "Everyone in the row should have some say                    | 57.8271\n",
       "The person in the window seat should have exclusive control | 42.1729"
      ]
     },
     "execution_count": 28,
     "metadata": {},
     "output_type": "execute_result"
    }
   ],
   "source": [
    "percentages_from_label('Who should have control over the window shade?')"
   ]
  },
  {
   "cell_type": "markdown",
   "metadata": {},
   "source": [
    "**Lets make a deeper analysis about the shade responses that the article didn't talk about.**\n",
    "\n",
    "**What would be more interesting is by grouping the responses by gender to see if there would be any differences of percentages between men and women compared to both genders.**\n",
    "\n",
    "**First, we will create 2 tables of the data for each gender.**"
   ]
  },
  {
   "cell_type": "code",
   "execution_count": 29,
   "metadata": {},
   "outputs": [
    {
     "name": "stdout",
     "output_type": "stream",
     "text": [
      "Males: 401 Females: 442\n"
     ]
    }
   ],
   "source": [
    "data_male = data.where(\"Gender\", \"Male\")\n",
    "data_female = data.where(\"Gender\", \"Female\")\n",
    "\n",
    "print(\"Males: \" + str(data_male.num_rows), \"Females: \" + str(data_female.num_rows))"
   ]
  },
  {
   "cell_type": "markdown",
   "metadata": {},
   "source": [
    "**Then, we will take the responses from each table while also removing any NaN values.**"
   ]
  },
  {
   "cell_type": "code",
   "execution_count": 30,
   "metadata": {},
   "outputs": [
    {
     "name": "stdout",
     "output_type": "stream",
     "text": [
      "Male Respondents\n"
     ]
    },
    {
     "data": {
      "text/html": [
       "<table border=\"1\" class=\"dataframe\">\n",
       "    <thead>\n",
       "        <tr>\n",
       "            <th>Who should have control over the window shade?</th>\n",
       "        </tr>\n",
       "    </thead>\n",
       "    <tbody>\n",
       "        <tr>\n",
       "            <td>Everyone in the row should have some say                   </td>\n",
       "        </tr>\n",
       "        <tr>\n",
       "            <td>The person in the window seat should have exclusive control</td>\n",
       "        </tr>\n",
       "        <tr>\n",
       "            <td>Everyone in the row should have some say                   </td>\n",
       "        </tr>\n",
       "        <tr>\n",
       "            <td>Everyone in the row should have some say                   </td>\n",
       "        </tr>\n",
       "        <tr>\n",
       "            <td>The person in the window seat should have exclusive control</td>\n",
       "        </tr>\n",
       "    </tbody>\n",
       "</table>\n",
       "<p>... (396 rows omitted)</p>"
      ],
      "text/plain": [
       "<IPython.core.display.HTML object>"
      ]
     },
     "metadata": {},
     "output_type": "display_data"
    },
    {
     "name": "stdout",
     "output_type": "stream",
     "text": [
      "Female Respondents\n"
     ]
    },
    {
     "data": {
      "text/html": [
       "<table border=\"1\" class=\"dataframe\">\n",
       "    <thead>\n",
       "        <tr>\n",
       "            <th>Who should have control over the window shade?</th>\n",
       "        </tr>\n",
       "    </thead>\n",
       "    <tbody>\n",
       "        <tr>\n",
       "            <td>The person in the window seat should have exclusive control</td>\n",
       "        </tr>\n",
       "        <tr>\n",
       "            <td>The person in the window seat should have exclusive control</td>\n",
       "        </tr>\n",
       "        <tr>\n",
       "            <td>Everyone in the row should have some say                   </td>\n",
       "        </tr>\n",
       "        <tr>\n",
       "            <td>Everyone in the row should have some say                   </td>\n",
       "        </tr>\n",
       "        <tr>\n",
       "            <td>The person in the window seat should have exclusive control</td>\n",
       "        </tr>\n",
       "    </tbody>\n",
       "</table>\n",
       "<p>... (437 rows omitted)</p>"
      ],
      "text/plain": [
       "<IPython.core.display.HTML object>"
      ]
     },
     "metadata": {},
     "output_type": "display_data"
    }
   ],
   "source": [
    "data_male_q = data_male.select(\"Who should have control over the window shade?\").where(0, are.not_equal_to(\"nan\"))\n",
    "data_female_q = data_female.select(\"Who should have control over the window shade?\").where(0, are.not_equal_to(\"nan\"))\n",
    "\n",
    "print(\"Male Respondents\")\n",
    "data_male_q.show(5)\n",
    "print(\"Female Respondents\")\n",
    "data_female_q.show(5)"
   ]
  },
  {
   "cell_type": "markdown",
   "metadata": {},
   "source": [
    "**Now, we group each responses from the male and female tables by \"count\" to find the percentages, similarly to the percentages_from_label function.**"
   ]
  },
  {
   "cell_type": "code",
   "execution_count": 31,
   "metadata": {},
   "outputs": [
    {
     "data": {
      "text/html": [
       "<table border=\"1\" class=\"dataframe\">\n",
       "    <thead>\n",
       "        <tr>\n",
       "            <th>Who should have control over the window shade?</th> <th>Percentages</th>\n",
       "        </tr>\n",
       "    </thead>\n",
       "    <tbody>\n",
       "        <tr>\n",
       "            <td>Everyone in the row should have some say                   </td> <td>56.6085    </td>\n",
       "        </tr>\n",
       "        <tr>\n",
       "            <td>The person in the window seat should have exclusive control</td> <td>43.3915    </td>\n",
       "        </tr>\n",
       "    </tbody>\n",
       "</table>"
      ],
      "text/plain": [
       "Who should have control over the window shade?              | Percentages\n",
       "Everyone in the row should have some say                    | 56.6085\n",
       "The person in the window seat should have exclusive control | 43.3915"
      ]
     },
     "execution_count": 31,
     "metadata": {},
     "output_type": "execute_result"
    }
   ],
   "source": [
    "male_group = data_male_q.group(0)\n",
    "male_per = male_group.column(\"count\")/data_male.num_rows\n",
    "male_per_table = male_group.with_column(\"Percentages\", male_per * 100).drop(\"count\")\n",
    "\n",
    "female_group = data_female_q.group(0)\n",
    "female_per = female_group.column(\"count\")/data_female.num_rows\n",
    "female_per_table = female_group.with_column(\"Percentages\", female_per * 100).drop(\"count\")\n",
    "\n",
    "male_per_table"
   ]
  },
  {
   "cell_type": "markdown",
   "metadata": {},
   "source": [
    "**There are 56% of males who believed that everyone should have some say, and 43% believe that the person in the window seat should have exclusive control. These percentages are similar when comparing the responses overall.**"
   ]
  },
  {
   "cell_type": "code",
   "execution_count": 32,
   "metadata": {
    "scrolled": true
   },
   "outputs": [
    {
     "data": {
      "text/html": [
       "<table border=\"1\" class=\"dataframe\">\n",
       "    <thead>\n",
       "        <tr>\n",
       "            <th>Who should have control over the window shade?</th> <th>Percentages</th>\n",
       "        </tr>\n",
       "    </thead>\n",
       "    <tbody>\n",
       "        <tr>\n",
       "            <td>Everyone in the row should have some say                   </td> <td>59.5023    </td>\n",
       "        </tr>\n",
       "        <tr>\n",
       "            <td>The person in the window seat should have exclusive control</td> <td>40.4977    </td>\n",
       "        </tr>\n",
       "    </tbody>\n",
       "</table>"
      ],
      "text/plain": [
       "Who should have control over the window shade?              | Percentages\n",
       "Everyone in the row should have some say                    | 59.5023\n",
       "The person in the window seat should have exclusive control | 40.4977"
      ]
     },
     "execution_count": 32,
     "metadata": {},
     "output_type": "execute_result"
    }
   ],
   "source": [
    "female_per_table"
   ]
  },
  {
   "cell_type": "markdown",
   "metadata": {},
   "source": [
    "**More women responded that everyone in the row should have some say in shade, similarly to the responses overall. However, there is a slightly higher percentage of women who had this response than men.**\n",
    "\n",
    "**Therefore, in the survey, there was a slightly more women who believed that everyone in the row have their preferable amount of shade.**"
   ]
  },
  {
   "cell_type": "markdown",
   "metadata": {},
   "source": [
    "**Here is a bar chart, comparing these 2 genders.**"
   ]
  },
  {
   "cell_type": "code",
   "execution_count": 33,
   "metadata": {},
   "outputs": [
    {
     "data": {
      "image/png": "[encoded data removed]",
      "text/plain": [
       "<Figure size 432x288 with 1 Axes>"
      ]
     },
     "metadata": {},
     "output_type": "display_data"
    }
   ],
   "source": [
    "male_and_female = Table().with_columns(\n",
    "            \"Who should have control over the window shade?\", male_per_table.column(0),\n",
    "            \"Male\", male_per_table.column(1),\n",
    "            \"Female\", female_per_table.column(1))\n",
    "male_and_female.barh(\"Who should have control over the window shade?\")"
   ]
  },
  {
   "cell_type": "markdown",
   "metadata": {},
   "source": [
    "**Claim from article:** \"A full 16 percent of respondents had used personal electronics during take off and landing in violation of the direction of flight attendants.\""
   ]
  },
  {
   "cell_type": "code",
   "execution_count": 34,
   "metadata": {},
   "outputs": [
    {
     "name": "stdout",
     "output_type": "stream",
     "text": [
      "97.14% (849/874) of those surveyed answered the question\n"
     ]
    },
    {
     "data": {
      "text/html": [
       "<table border=\"1\" class=\"dataframe\">\n",
       "    <thead>\n",
       "        <tr>\n",
       "            <th>Have you ever used personal electronics during take off or landing in violation of a flight attendant's direction?</th> <th>Percentages</th>\n",
       "        </tr>\n",
       "    </thead>\n",
       "    <tbody>\n",
       "        <tr>\n",
       "            <td>No                                                                                                                </td> <td>83.9812    </td>\n",
       "        </tr>\n",
       "        <tr>\n",
       "            <td>Yes                                                                                                               </td> <td>16.0188    </td>\n",
       "        </tr>\n",
       "    </tbody>\n",
       "</table>"
      ],
      "text/plain": [
       "Have you ever used personal electronics during take off or landing in violation of a flight attendant's direction? | Percentages\n",
       "No                                                                                                                 | 83.9812\n",
       "Yes                                                                                                                | 16.0188"
      ]
     },
     "execution_count": 34,
     "metadata": {},
     "output_type": "execute_result"
    }
   ],
   "source": [
    "percentages_from_label(\"Have you ever used personal electronics during take off or landing in violation of a flight attendant's direction?\")"
   ]
  },
  {
   "cell_type": "markdown",
   "metadata": {},
   "source": [
    "**Claim from article:** \"do people actually smoke in bathrooms? — seven respondents admitted they had illegally smoked there.\""
   ]
  },
  {
   "cell_type": "markdown",
   "metadata": {},
   "source": [
    "***I think this one might be a fun one to try bootstrapping***"
   ]
  },
  {
   "cell_type": "code",
   "execution_count": 35,
   "metadata": {},
   "outputs": [
    {
     "name": "stdout",
     "output_type": "stream",
     "text": [
      "97.14% (849/874) of those surveyed answered the question\n"
     ]
    },
    {
     "data": {
      "text/html": [
       "<table border=\"1\" class=\"dataframe\">\n",
       "    <thead>\n",
       "        <tr>\n",
       "            <th>Have you ever smoked a cigarette in an airplane bathroom when it was against the rules?</th> <th>Percentages</th>\n",
       "        </tr>\n",
       "    </thead>\n",
       "    <tbody>\n",
       "        <tr>\n",
       "            <td>No                                                                                     </td> <td>99.1755    </td>\n",
       "        </tr>\n",
       "        <tr>\n",
       "            <td>Yes                                                                                    </td> <td>0.824499   </td>\n",
       "        </tr>\n",
       "    </tbody>\n",
       "</table>"
      ],
      "text/plain": [
       "Have you ever smoked a cigarette in an airplane bathroom when it was against the rules? | Percentages\n",
       "No                                                                                      | 99.1755\n",
       "Yes                                                                                     | 0.824499"
      ]
     },
     "execution_count": 35,
     "metadata": {},
     "output_type": "execute_result"
    }
   ],
   "source": [
    "percentages_from_label('Have you ever smoked a cigarette in an airplane bathroom when it was against the rules?')"
   ]
  },
  {
   "cell_type": "markdown",
   "metadata": {},
   "source": [
    "**Here, we run a simulation to determine the true proportion of passangers who have smoked in the bathroom.**"
   ]
  },
  {
   "cell_type": "markdown",
   "metadata": {},
   "source": [
    "**Write function for histogram.**"
   ]
  },
  {
   "cell_type": "code",
   "execution_count": 36,
   "metadata": {},
   "outputs": [],
   "source": [
    "def true_smokers(repetitions):\n",
    "    smokers_collect=make_array()\n",
    "    for i in np.arange(repetitions):\n",
    "        shuffle_table=data.sample()\n",
    "        how_many_smoke=shuffle_table.select('Have you ever smoked a cigarette in an airplane bathroom when it was against the rules?')\n",
    "        how_many_smoke_2=how_many_smoke.where(0,'Yes')\n",
    "        proportion_of_smokers=how_many_smoke_2.num_rows/data.num_rows\n",
    "        smokers_collect=np.append(smokers_collect,proportion_of_smokers)\n",
    "    return smokers_collect\n",
    "    \n",
    "def histogram_smokers(repetitions):\n",
    "    create_array=true_smokers(repetitions)\n",
    "    create_table=Table().with_column('Proportion of smokers',create_array)\n",
    "    return create_table.hist()"
   ]
  },
  {
   "cell_type": "code",
   "execution_count": 37,
   "metadata": {},
   "outputs": [
    {
     "data": {
      "image/png": "[encoded data removed]",
      "text/plain": [
       "<Figure size 432x288 with 1 Axes>"
      ]
     },
     "metadata": {},
     "output_type": "display_data"
    }
   ],
   "source": [
    "histogram_smokers(2000)"
   ]
  },
  {
   "cell_type": "code",
   "execution_count": 38,
   "metadata": {},
   "outputs": [
    {
     "data": {
      "text/plain": [
       "array([0.01029748, 0.00800915, 0.00457666, ..., 0.00800915, 0.00915332,\n",
       "       0.00686499])"
      ]
     },
     "execution_count": 38,
     "metadata": {},
     "output_type": "execute_result"
    }
   ],
   "source": [
    "true_smokers(2000)"
   ]
  },
  {
   "cell_type": "code",
   "execution_count": 39,
   "metadata": {},
   "outputs": [],
   "source": [
    "def confidence_level(confidence_level,repetitions):\n",
    "    step_1=percentile(confidence_level,true_smokers(repetitions))\n",
    "    step_2=percentile(100-confidence_level,true_smokers(repetitions))\n",
    "    return step_2,step_1"
   ]
  },
  {
   "cell_type": "code",
   "execution_count": 40,
   "metadata": {},
   "outputs": [
    {
     "data": {
      "text/plain": [
       "(0.003432494279176201, 0.013729977116704805)"
      ]
     },
     "execution_count": 40,
     "metadata": {},
     "output_type": "execute_result"
    }
   ],
   "source": [
    "confidence_level(95,2000)"
   ]
  },
  {
   "cell_type": "markdown",
   "metadata": {},
   "source": [
    "**We estimate with 95% confidence that the true proportion of passangers who smoked on the flight is between 0.34% and 1.37%.**"
   ]
  },
  {
   "cell_type": "markdown",
   "metadata": {},
   "source": [
    "# This is the end of the article's claims.  \n",
    "I think it might be interesting to try and see if there's a relationship between people's height and how they feel about reclining seats. \n",
    "\n",
    "Also bootstrapping the percentage of people who smoke. It would also be interesting to create some visualizations for these. \n",
    "\n",
    "I think we should also look more at the na values, it would be good to make a plot of how many nan values there are in each column. \n",
    "\n",
    "It would be fun to add some pictures / colors to graphs or something to make it more interesting.\n",
    "\n",
    "Those are just the things I thought of, I'm sure there's more. All of the cells below are what was here by default, we can use it for inspiration / a template for our analysis, but it can also just be ignored for now. "
   ]
  },
  {
   "cell_type": "markdown",
   "metadata": {},
   "source": [
    "# Now, we will observe the relationship between height and antipathy towards reclining seats. "
   ]
  },
  {
   "cell_type": "markdown",
   "metadata": {},
   "source": [
    "**1) For instance, are taller people more likely to answer yes to removing reclining seats?**"
   ]
  },
  {
   "cell_type": "code",
   "execution_count": 48,
   "metadata": {},
   "outputs": [
    {
     "data": {
      "text/html": [
       "<table border=\"1\" class=\"dataframe\">\n",
       "    <thead>\n",
       "        <tr>\n",
       "            <th>How tall are you?</th> <th>Given the opportunity, would you eliminate the possibility of reclining seats on planes entirely?</th>\n",
       "        </tr>\n",
       "    </thead>\n",
       "    <tbody>\n",
       "        <tr>\n",
       "            <td>6'3\"             </td> <td>No                                                                                               </td>\n",
       "        </tr>\n",
       "        <tr>\n",
       "            <td>5'8\"             </td> <td>No                                                                                               </td>\n",
       "        </tr>\n",
       "        <tr>\n",
       "            <td>5'11\"            </td> <td>No                                                                                               </td>\n",
       "        </tr>\n",
       "        <tr>\n",
       "            <td>5'7\"             </td> <td>No                                                                                               </td>\n",
       "        </tr>\n",
       "        <tr>\n",
       "            <td>5'9\"             </td> <td>No                                                                                               </td>\n",
       "        </tr>\n",
       "        <tr>\n",
       "            <td>6'2\"             </td> <td>Yes                                                                                              </td>\n",
       "        </tr>\n",
       "        <tr>\n",
       "            <td>6'0\"             </td> <td>Yes                                                                                              </td>\n",
       "        </tr>\n",
       "        <tr>\n",
       "            <td>6'0\"             </td> <td>Yes                                                                                              </td>\n",
       "        </tr>\n",
       "        <tr>\n",
       "            <td>5'6\"             </td> <td>Yes                                                                                              </td>\n",
       "        </tr>\n",
       "        <tr>\n",
       "            <td>6'0\"             </td> <td>No                                                                                               </td>\n",
       "        </tr>\n",
       "    </tbody>\n",
       "</table>\n",
       "<p>... (844 rows omitted)</p>"
      ],
      "text/plain": [
       "How tall are you? | Given the opportunity, would you eliminate the possibility of reclining seats on planes entirely?\n",
       "6'3\"              | No\n",
       "5'8\"              | No\n",
       "5'11\"             | No\n",
       "5'7\"              | No\n",
       "5'9\"              | No\n",
       "6'2\"              | Yes\n",
       "6'0\"              | Yes\n",
       "6'0\"              | Yes\n",
       "5'6\"              | Yes\n",
       "6'0\"              | No\n",
       "... (844 rows omitted)"
      ]
     },
     "execution_count": 48,
     "metadata": {},
     "output_type": "execute_result"
    }
   ],
   "source": [
    "height_and_reclining=data.select('How tall are you?','Given the opportunity, would you eliminate the possibility of reclining seats on planes entirely?').where(0,are.not_equal_to('nan')).where(1,are.not_equal_to('nan'))\n",
    "height_and_reclining"
   ]
  },
  {
   "cell_type": "code",
   "execution_count": 56,
   "metadata": {},
   "outputs": [
    {
     "data": {
      "text/html": [
       "<table border=\"1\" class=\"dataframe\">\n",
       "    <thead>\n",
       "        <tr>\n",
       "            <th>Given the opportunity, would you eliminate the possibility of reclining seats on planes entirely?</th> <th>count</th>\n",
       "        </tr>\n",
       "    </thead>\n",
       "    <tbody>\n",
       "        <tr>\n",
       "            <td>No                                                                                               </td> <td>595  </td>\n",
       "        </tr>\n",
       "        <tr>\n",
       "            <td>Yes                                                                                              </td> <td>259  </td>\n",
       "        </tr>\n",
       "    </tbody>\n",
       "</table>"
      ],
      "text/plain": [
       "Given the opportunity, would you eliminate the possibility of reclining seats on planes entirely? | count\n",
       "No                                                                                                | 595\n",
       "Yes                                                                                               | 259"
      ]
     },
     "execution_count": 56,
     "metadata": {},
     "output_type": "execute_result"
    }
   ],
   "source": [
    "height_and_reclining.group(1)"
   ]
  },
  {
   "cell_type": "code",
   "execution_count": 87,
   "metadata": {},
   "outputs": [
    {
     "data": {
      "text/html": [
       "<table border=\"1\" class=\"dataframe\">\n",
       "    <thead>\n",
       "        <tr>\n",
       "            <th>How tall are you?</th> <th>No</th> <th>Yes</th> <th>Counts</th> <th>Percentage Yes</th> <th>Percentage No</th>\n",
       "        </tr>\n",
       "    </thead>\n",
       "    <tbody>\n",
       "        <tr>\n",
       "            <td>5'0\"             </td> <td>12  </td> <td>5   </td> <td>17    </td> <td>0.294118      </td> <td>0.705882     </td>\n",
       "        </tr>\n",
       "        <tr>\n",
       "            <td>5'1\"             </td> <td>11  </td> <td>8   </td> <td>19    </td> <td>0.421053      </td> <td>0.578947     </td>\n",
       "        </tr>\n",
       "        <tr>\n",
       "            <td>5'10\"            </td> <td>40  </td> <td>26  </td> <td>66    </td> <td>0.393939      </td> <td>0.606061     </td>\n",
       "        </tr>\n",
       "        <tr>\n",
       "            <td>5'11\"            </td> <td>33  </td> <td>21  </td> <td>54    </td> <td>0.388889      </td> <td>0.611111     </td>\n",
       "        </tr>\n",
       "        <tr>\n",
       "            <td>5'2\"             </td> <td>30  </td> <td>15  </td> <td>45    </td> <td>0.333333      </td> <td>0.666667     </td>\n",
       "        </tr>\n",
       "        <tr>\n",
       "            <td>5'3\"             </td> <td>38  </td> <td>10  </td> <td>48    </td> <td>0.208333      </td> <td>0.791667     </td>\n",
       "        </tr>\n",
       "        <tr>\n",
       "            <td>5'4\"             </td> <td>56  </td> <td>22  </td> <td>78    </td> <td>0.282051      </td> <td>0.717949     </td>\n",
       "        </tr>\n",
       "        <tr>\n",
       "            <td>5'5\"             </td> <td>53  </td> <td>18  </td> <td>71    </td> <td>0.253521      </td> <td>0.746479     </td>\n",
       "        </tr>\n",
       "        <tr>\n",
       "            <td>5'6\"             </td> <td>56  </td> <td>19  </td> <td>75    </td> <td>0.253333      </td> <td>0.746667     </td>\n",
       "        </tr>\n",
       "        <tr>\n",
       "            <td>5'7\"             </td> <td>56  </td> <td>20  </td> <td>76    </td> <td>0.263158      </td> <td>0.736842     </td>\n",
       "        </tr>\n",
       "    </tbody>\n",
       "</table>\n",
       "<p>... (10 rows omitted)</p>"
      ],
      "text/plain": [
       "How tall are you? | No   | Yes  | Counts | Percentage Yes | Percentage No\n",
       "5'0\"              | 12   | 5    | 17     | 0.294118       | 0.705882\n",
       "5'1\"              | 11   | 8    | 19     | 0.421053       | 0.578947\n",
       "5'10\"             | 40   | 26   | 66     | 0.393939       | 0.606061\n",
       "5'11\"             | 33   | 21   | 54     | 0.388889       | 0.611111\n",
       "5'2\"              | 30   | 15   | 45     | 0.333333       | 0.666667\n",
       "5'3\"              | 38   | 10   | 48     | 0.208333       | 0.791667\n",
       "5'4\"              | 56   | 22   | 78     | 0.282051       | 0.717949\n",
       "5'5\"              | 53   | 18   | 71     | 0.253521       | 0.746479\n",
       "5'6\"              | 56   | 19   | 75     | 0.253333       | 0.746667\n",
       "5'7\"              | 56   | 20   | 76     | 0.263158       | 0.736842\n",
       "... (10 rows omitted)"
      ]
     },
     "execution_count": 87,
     "metadata": {},
     "output_type": "execute_result"
    }
   ],
   "source": [
    "processed_height=height_and_reclining.pivot(1,0)\n",
    "counts_column=height_and_reclining.group(0).column(1)\n",
    "processed_height_2=processed_height.with_column('Counts',counts_column)\n",
    "yes=processed_height_2.column('Yes')/processed_height_2.column('Counts')\n",
    "no=processed_height_2.column('No')/processed_height_2.column('Counts')\n",
    "processed_height_final=processed_height_2.with_column('Percentage Yes',yes,'Percentage No',no)\n",
    "processed_height_final"
   ]
  },
  {
   "cell_type": "code",
   "execution_count": 89,
   "metadata": {},
   "outputs": [
    {
     "data": {
      "image/png": "[encoded data removed]",
      "text/plain": [
       "<Figure size 432x288 with 1 Axes>"
      ]
     },
     "metadata": {},
     "output_type": "display_data"
    }
   ],
   "source": [
    "processed_height_final.take(np.arange(19)).select(0,4,5).plot(0)"
   ]
  },
  {
   "cell_type": "markdown",
   "metadata": {},
   "source": [
    "**It appears the percentage of respondents who would like to remove reclining seats and those who don't slowly converge as height increases, before spiking towards the end of the graph, then reconverging. Coincidence?**"
   ]
  },
  {
   "cell_type": "markdown",
   "metadata": {},
   "source": [
    "**Now, we will look at how the Yes and No groups stand across different ages!**"
   ]
  },
  {
   "cell_type": "code",
   "execution_count": 93,
   "metadata": {},
   "outputs": [
    {
     "data": {
      "image/png": "[encoded data removed]",
      "text/plain": [
       "<Figure size 432x288 with 1 Axes>"
      ]
     },
     "metadata": {},
     "output_type": "display_data"
    }
   ],
   "source": [
    "Differences=processed_height_final.take(np.arange(19)).column('Percentage No')-processed_height_final.take(np.arange(19)).column('Percentage Yes')\n",
    "Differences_refined=processed_height_final.take(np.arange(19)).with_column('Differences',Differences)\n",
    "Differences_refined.plot(0,6)"
   ]
  },
  {
   "cell_type": "markdown",
   "metadata": {},
   "source": [
    "**The plot above indicates the percentage on Team No minus the percentage on Team Yes. It seems Team No gradually loses as height increases!**"
   ]
  },
  {
   "cell_type": "markdown",
   "metadata": {},
   "source": [
    "**Now, I will write a function that converts the columns into standard units.**"
   ]
  },
  {
   "cell_type": "code",
   "execution_count": 101,
   "metadata": {},
   "outputs": [],
   "source": [
    "def correlation (column1,column2):\n",
    "    step_1=(column1-np.mean(column1))/np.std(column1)\n",
    "    step_2=(column2-np.mean(column2))/np.std(column2)\n",
    "    return np.mean(step_1*step_2)"
   ]
  },
  {
   "cell_type": "code",
   "execution_count": 104,
   "metadata": {},
   "outputs": [
    {
     "data": {
      "text/html": [
       "<table border=\"1\" class=\"dataframe\">\n",
       "    <thead>\n",
       "        <tr>\n",
       "            <th>How tall are you?</th> <th>No</th> <th>Yes</th> <th>Counts</th> <th>Percentage Yes</th> <th>Percentage No</th> <th>Differences</th>\n",
       "        </tr>\n",
       "    </thead>\n",
       "    <tbody>\n",
       "        <tr>\n",
       "            <td>5'0\"             </td> <td>12  </td> <td>5   </td> <td>17    </td> <td>0.294118      </td> <td>0.705882     </td> <td>0.411765   </td>\n",
       "        </tr>\n",
       "        <tr>\n",
       "            <td>5'1\"             </td> <td>11  </td> <td>8   </td> <td>19    </td> <td>0.421053      </td> <td>0.578947     </td> <td>0.157895   </td>\n",
       "        </tr>\n",
       "        <tr>\n",
       "            <td>5'10\"            </td> <td>40  </td> <td>26  </td> <td>66    </td> <td>0.393939      </td> <td>0.606061     </td> <td>0.212121   </td>\n",
       "        </tr>\n",
       "        <tr>\n",
       "            <td>5'11\"            </td> <td>33  </td> <td>21  </td> <td>54    </td> <td>0.388889      </td> <td>0.611111     </td> <td>0.222222   </td>\n",
       "        </tr>\n",
       "        <tr>\n",
       "            <td>5'2\"             </td> <td>30  </td> <td>15  </td> <td>45    </td> <td>0.333333      </td> <td>0.666667     </td> <td>0.333333   </td>\n",
       "        </tr>\n",
       "        <tr>\n",
       "            <td>5'3\"             </td> <td>38  </td> <td>10  </td> <td>48    </td> <td>0.208333      </td> <td>0.791667     </td> <td>0.583333   </td>\n",
       "        </tr>\n",
       "        <tr>\n",
       "            <td>5'4\"             </td> <td>56  </td> <td>22  </td> <td>78    </td> <td>0.282051      </td> <td>0.717949     </td> <td>0.435897   </td>\n",
       "        </tr>\n",
       "        <tr>\n",
       "            <td>5'5\"             </td> <td>53  </td> <td>18  </td> <td>71    </td> <td>0.253521      </td> <td>0.746479     </td> <td>0.492958   </td>\n",
       "        </tr>\n",
       "        <tr>\n",
       "            <td>5'6\"             </td> <td>56  </td> <td>19  </td> <td>75    </td> <td>0.253333      </td> <td>0.746667     </td> <td>0.493333   </td>\n",
       "        </tr>\n",
       "        <tr>\n",
       "            <td>5'7\"             </td> <td>56  </td> <td>20  </td> <td>76    </td> <td>0.263158      </td> <td>0.736842     </td> <td>0.473684   </td>\n",
       "        </tr>\n",
       "    </tbody>\n",
       "</table>\n",
       "<p>... (9 rows omitted)</p>"
      ],
      "text/plain": [
       "How tall are you? | No   | Yes  | Counts | Percentage Yes | Percentage No | Differences\n",
       "5'0\"              | 12   | 5    | 17     | 0.294118       | 0.705882      | 0.411765\n",
       "5'1\"              | 11   | 8    | 19     | 0.421053       | 0.578947      | 0.157895\n",
       "5'10\"             | 40   | 26   | 66     | 0.393939       | 0.606061      | 0.212121\n",
       "5'11\"             | 33   | 21   | 54     | 0.388889       | 0.611111      | 0.222222\n",
       "5'2\"              | 30   | 15   | 45     | 0.333333       | 0.666667      | 0.333333\n",
       "5'3\"              | 38   | 10   | 48     | 0.208333       | 0.791667      | 0.583333\n",
       "5'4\"              | 56   | 22   | 78     | 0.282051       | 0.717949      | 0.435897\n",
       "5'5\"              | 53   | 18   | 71     | 0.253521       | 0.746479      | 0.492958\n",
       "5'6\"              | 56   | 19   | 75     | 0.253333       | 0.746667      | 0.493333\n",
       "5'7\"              | 56   | 20   | 76     | 0.263158       | 0.736842      | 0.473684\n",
       "... (9 rows omitted)"
      ]
     },
     "execution_count": 104,
     "metadata": {},
     "output_type": "execute_result"
    }
   ],
   "source": [
    "Differences_refined"
   ]
  },
  {
   "cell_type": "code",
   "execution_count": 115,
   "metadata": {},
   "outputs": [
    {
     "data": {
      "image/png": "[encoded data removed]",
      "text/plain": [
       "<Figure size 432x684 with 1 Axes>"
      ]
     },
     "metadata": {},
     "output_type": "display_data"
    }
   ],
   "source": [
    "Differences_refined.select(0,'Percentage Yes','Percentage No').barh(0)"
   ]
  },
  {
   "cell_type": "markdown",
   "metadata": {},
   "source": [
    "**Now, we will see if the person's gender is related to antipathy towards reclining chairs. This is purely experimental.**"
   ]
  },
  {
   "cell_type": "code",
   "execution_count": null,
   "metadata": {},
   "outputs": [],
   "source": []
  },
  {
   "cell_type": "markdown",
   "metadata": {
    "slideshow": {
     "slide_type": "slide"
    }
   },
   "source": [
    "Because we are interested in the variables `charges` and `smoking`, we plot box plots below for the insurance charges separated into smoker and non-smoker groups."
   ]
  },
  {
   "cell_type": "code",
   "execution_count": null,
   "metadata": {
    "scrolled": true
   },
   "outputs": [],
   "source": [
    "smoker = data.where('smoker', 'yes').column('charges')\n",
    "nonsmoker = data.where('smoker', 'no').column('charges')\n",
    "plt.boxplot([smoker, nonsmoker])\n",
    "plt.title('Boxplots of Smoker and Nonsmoker Charges')\n",
    "plt.ylabel('Charges ($)')\n",
    "plt.xlabel('Smoker; 1 = Y, 2 = N')\n",
    "plt.savefig(\"../output/smoker-boxplots-datascience.png\"); # export to output folder"
   ]
  },
  {
   "cell_type": "markdown",
   "metadata": {
    "slideshow": {
     "slide_type": "slide"
    }
   },
   "source": [
    "## Reproducing the A/B\n",
    "\n",
    "In this section of the notebook, we will attempt to reproduce the original A/B test that was run on the data. The test statistic that was used was the absolute difference between the mean charges for the smoker and non-smoker groups. That is, for two vectors of $n$ smoker charges $\\mathbf{s}$ and $m$ non-smoker charges $\\mathbf{\\bar{s}}$, the test statistic is computed as\n",
    "\n",
    "$$ \\left | \\frac{1}{n} \\sum_{i=1}^n s_i - \\frac{1}{m} \\sum_{i=1}^m \\bar{s}_i \\right | $$\n",
    "\n",
    "To accomplish this, we first define a function `test_statistic` that takes in a table with columns `smoker` and `charges` and computes the value of the test statistic."
   ]
  },
  {
   "cell_type": "code",
   "execution_count": null,
   "metadata": {},
   "outputs": [],
   "source": [
    "def test_statistic(tbl):\n",
    "    grouped = (tbl\n",
    "               .group('smoker', np.mean)             # group by smoker values and take mean of cols\n",
    "               .select('smoker', 'charges mean'))    # select smoker and charges mean cols\n",
    "    smoker = (grouped\n",
    "              .where('smoker', 'yes')                # select the row where smoker is 'yes'\n",
    "              .column('charges mean'))[0]            # take that value of charges mean col\n",
    "    nonsmoker = (grouped\n",
    "                 .where('smoker', 'no')              # select the row where smoker is 'yes'\n",
    "                 .column('charges mean'))[0]         # take that value of charges mean col\n",
    "    \n",
    "    return abs(smoker - nonsmoker)                   # return absolute difference\n",
    "\n",
    "test_statistic(data)    # running the function on the original data"
   ]
  },
  {
   "cell_type": "markdown",
   "metadata": {
    "slideshow": {
     "slide_type": "slide"
    }
   },
   "source": [
    "We now turn our attention to the A/B test. The purpose of the A/B test is to determine whether or not the charges for smokers and non-smokers come from the same underlying distribution. For this A/B test the null and alternative hypotheses are as follows:\n",
    "\n",
    "* $H_0$: There is not difference between the distributions of charges for smokers and non-smokers. Any difference observed is due to random chance.\n",
    "* $H_A$: Being a smoker affects what you are charged in insurance premia; that is, the smoker and non-smoker charges are not from the same distribution.\n",
    "\n",
    "To check the intuition of $H_A$, we first plot histograms of the data on the same axes to see if the distributions match visually."
   ]
  },
  {
   "cell_type": "code",
   "execution_count": null,
   "metadata": {},
   "outputs": [],
   "source": [
    "plt.hist(smoker, density=True, alpha=0.5)       # reusing the smoker array created earlier\n",
    "plt.hist(nonsmoker, density=True, alpha=0.5)    # reusing the nonsmoker array created earlier\n",
    "plt.title('Histograms of Smoker and Non-Smoker Charges')\n",
    "plt.xlabel('Charges ($)')\n",
    "plt.legend(['Smoker', 'Non-Smoker'])\n",
    "plt.savefig(\"../output/charges-hist-dstascience.png\"); # export to output folder"
   ]
  },
  {
   "cell_type": "markdown",
   "metadata": {
    "slideshow": {
     "slide_type": "slide"
    }
   },
   "source": [
    "Based on the above visualization, it appears our intuition is correct, but we should nevertheless verify this statistically. The A/B test will occur in steps that will culminate in calculating a p-value to determine whether we accept $H_0$ or $H_A$. The steps we will follow are enumerated below:\n",
    "1. Define a function `shuffle` to shuffle the table's smoker classifications\n",
    "2. Repeatedly shuffle the table and apply the function `test_statistic`\n",
    "3. Calculate the proportion of values of the test statistic that are **greater than or equal to** the value for the original table\n",
    "\n",
    "To begin, we define the function `shuffle` below which shuffles the table."
   ]
  },
  {
   "cell_type": "code",
   "execution_count": null,
   "metadata": {
    "scrolled": true
   },
   "outputs": [],
   "source": [
    "def shuffle(tbl):\n",
    "    new_tbl = tbl.copy()    # copy the table so we don't mutate the original\n",
    "    smoker_status = (new_tbl\n",
    "                     .sample(with_replacement=False)    # shuffle the table by sampling without replacement\n",
    "                     .column('smoker'))                 # select smoker column from shuffle table\n",
    "    new_tbl['smoker'] = smoker_status\n",
    "    return new_tbl\n",
    "\n",
    "shuffle(data).show(5)    # test the function on the original data table"
   ]
  },
  {
   "cell_type": "markdown",
   "metadata": {
    "slideshow": {
     "slide_type": "slide"
    }
   },
   "source": [
    "For the second step of the process, we use a for loop below to run through the repetitions. A list is used instead of an array below to make the code run faster."
   ]
  },
  {
   "cell_type": "code",
   "execution_count": null,
   "metadata": {},
   "outputs": [],
   "source": [
    "np.random.seed(13)       # seeding np.random to make results reproducible\n",
    "reps = 10000             # number of repetitions to run through\n",
    "test_statistics = []     # initialize array to collect values\n",
    "for _ in np.arange(reps):\n",
    "    shuffled_data = shuffle(data)                 # shuffle data table\n",
    "    test_stat = test_statistic(shuffled_data)     # calculate test statistic on shuffled table\n",
    "    test_statistics += [test_stat]                # add value to test_statistics list"
   ]
  },
  {
   "cell_type": "markdown",
   "metadata": {
    "slideshow": {
     "slide_type": "slide"
    }
   },
   "source": [
    "Finally, we calculate the p-value below."
   ]
  },
  {
   "cell_type": "code",
   "execution_count": null,
   "metadata": {},
   "outputs": [],
   "source": [
    "# calculate value of test statistic for original data\n",
    "original = test_statistic(data)\n",
    "\n",
    "# calculate p-value\n",
    "p_value = sum(test_statistics >= original) / len(test_statistics)     \n",
    "\n",
    "print(\"The p-value for this A/B test is {}.\".format(p_value))"
   ]
  },
  {
   "cell_type": "markdown",
   "metadata": {
    "slideshow": {
     "slide_type": "fragment"
    }
   },
   "source": [
    "The p-value is apparently 0, which is significant by any convention. So, in this case, we accept $H_A$, that the smoker and non-smoker charges do not come from the same underlying distribution."
   ]
  },
  {
   "cell_type": "markdown",
   "metadata": {
    "slideshow": {
     "slide_type": "slide"
    }
   },
   "source": [
    "## A/B Testing Without Outliers\n",
    "\n",
    "The original analysis fails to consider the effect of outliers on the results that it derives. In order to see if this has an effect, we now run the same test on a data set where we have taken out the outliers _within each smoking group_. That is, we first separate the individuals into smokers and non-smokers, and then remove outliers from each subset.\n",
    "\n",
    "For the purposes of this analysis, we define outliers to be values that are more than 2.5 standard deviations ($\\sigma$) away from the mean ($\\mu$). That is, the set of outliers $O$ is\n",
    "\n",
    "$$O = \\{ c_i \\mid c_i < \\mu - 2.5 \\sigma \\} \\cup \\{ c_i \\mid c_i > \\mu + 2.5 \\sigma \\}$$\n",
    "\n",
    "In the cell below, we remove these data from the data table."
   ]
  },
  {
   "cell_type": "code",
   "execution_count": null,
   "metadata": {
    "slideshow": {
     "slide_type": "slide"
    }
   },
   "outputs": [],
   "source": [
    "all_smokers = data.where('smoker', 'yes')\n",
    "mu_smokers, sigma_smokers = np.mean(all_smokers['charges']), np.std(all_smokers['charges'])\n",
    "smokers = all_smokers.where('charges', are.between_or_equal_to(\n",
    "    mu_smokers - 2.5 * sigma_smokers,\n",
    "    mu_smokers + 2.5 * sigma_smokers\n",
    "))\n",
    "\n",
    "print('Number of removed smokers: {}'.format(all_smokers.num_rows - smokers.num_rows))"
   ]
  },
  {
   "cell_type": "code",
   "execution_count": null,
   "metadata": {},
   "outputs": [],
   "source": [
    "all_non_smokers = data.where('smoker', 'no')\n",
    "mu_non_smokers, sigma_non_smokers = np.mean(all_non_smokers['charges']), np.std(all_non_smokers['charges'])\n",
    "non_smokers = all_non_smokers.where('charges', are.between_or_equal_to(\n",
    "    mu_non_smokers - 2.5 * sigma_non_smokers,\n",
    "    mu_non_smokers + 2.5 * sigma_non_smokers\n",
    "))\n",
    "\n",
    "print('Number of removed non-smokers: {}'.format(all_non_smokers.num_rows - non_smokers.num_rows))"
   ]
  },
  {
   "cell_type": "markdown",
   "metadata": {},
   "source": [
    "Because we removed outliers in the data set, we now recreate the data table without outliers from the `smokers` and `non_smokers` dataframes and run the A/B test."
   ]
  },
  {
   "cell_type": "code",
   "execution_count": null,
   "metadata": {},
   "outputs": [],
   "source": [
    "no_outliers = smokers.with_rows(non_smokers.rows)\n",
    "print(no_outliers.num_rows == data.num_rows - 43)"
   ]
  },
  {
   "cell_type": "code",
   "execution_count": null,
   "metadata": {},
   "outputs": [],
   "source": [
    "np.random.seed(13)       # seeding np.random to make results reproducible\n",
    "reps = 10000             # number of repetitions to run through\n",
    "no_outliers_test_statistics = []     # initialize array to collect values\n",
    "for _ in np.arange(reps):\n",
    "    shuffled_data = shuffle(no_outliers)          # shuffle data table\n",
    "    test_stat = test_statistic(shuffled_data)     # calculate test statistic on shuffled table\n",
    "    no_outliers_test_statistics += [test_stat]    # add value to test_statistics list"
   ]
  },
  {
   "cell_type": "markdown",
   "metadata": {
    "slideshow": {
     "slide_type": "slide"
    }
   },
   "source": [
    "Finally, we calculate the p-value below."
   ]
  },
  {
   "cell_type": "code",
   "execution_count": null,
   "metadata": {},
   "outputs": [],
   "source": [
    "# calculate value of test statistic for original data\n",
    "no_outliers_original = test_statistic(no_outliers)\n",
    "\n",
    "# calculate p-value\n",
    "no_outliers_p_value = sum(no_outliers_test_statistics >= no_outliers_original) \\\n",
    "        / len(no_outliers_test_statistics)     \n",
    "\n",
    "print(\"The p-value for this A/B test is {}.\".format(no_outliers_p_value))"
   ]
  },
  {
   "cell_type": "markdown",
   "metadata": {
    "slideshow": {
     "slide_type": "fragment"
    }
   },
   "source": [
    "Because the result of this A/B test is also 0, removing outliers had no effect on the outcome of the hypothesis test, and so we still accept $H_A$. This shows that removing outliers does not effect the findings of the original analysis."
   ]
  },
  {
   "cell_type": "markdown",
   "metadata": {
    "slideshow": {
     "slide_type": "slide"
    }
   },
   "source": [
    "## Reliability of the Data\n",
    "\n",
    "The original data on which this analysis is based was downloaded from Kaggle. Given that Kaggle is a community where anyone can post data regardless of its quality, in this section we attempt to ascertain whether or not the insurance dataset _is_ of good quality by considering its origin and structure.\n",
    "\n",
    "The following is an excerpt from the \"Context\" section of the dataset's listing on Kaggle:\n",
    "> Machine Learning with R by Brett Lantz is a book that provides an introduction to machine learning using R. As far as I can tell, Packt Publishing does not make its datasets available online unless you buy the book and create a user account which can be a problem if you are checking the book out from the library or borrowing the book from a friend. All of these datasets are in the public domain but simply needed some cleaning up and recoding to match the format in the book."
   ]
  },
  {
   "cell_type": "markdown",
   "metadata": {
    "slideshow": {
     "slide_type": "slide"
    }
   },
   "source": [
    "The validity of the data has even been called into question in the comment section with people asking about where the data came from, as the Github repo where it is hosted does not contain much information beyond that quoted above.\n",
    "\n",
    "![Kaggle comment](../images/comment.png)"
   ]
  },
  {
   "cell_type": "markdown",
   "metadata": {
    "slideshow": {
     "slide_type": "slide"
    }
   },
   "source": [
    "The Kaggle poster responded by saying that they found the dataset on Github and don't know anything about its provenance beyond that:\n",
    "\n",
    "![Kaggle response](../images/response.png)"
   ]
  },
  {
   "cell_type": "markdown",
   "metadata": {
    "slideshow": {
     "slide_type": "slide"
    }
   },
   "source": [
    "The source for the data is listed in the \"Acknowledgements\" section, but points to a [Github repository](https://github.com/stedy/Machine-Learning-with-R-datasets) which contains quite a few datasets but no information on their provenance beyond the description listed above, which appears to have been copied from the README of the Github repo. According to these, you need to have a Packt account in order to get access to the data and dependencies. Below is a screengrab from an [online PDF of the textbook](https://edu.kpfu.ru/pluginfile.php/278552/mod_resource/content/1/MachineLearningR__Brett_Lantz.pdf) that describes the `insurance.csv` file that this dataset is from:"
   ]
  },
  {
   "cell_type": "markdown",
   "metadata": {
    "slideshow": {
     "slide_type": "slide"
    }
   },
   "source": [
    "![textbook screengrab](../images/textbook.png)"
   ]
  },
  {
   "cell_type": "markdown",
   "metadata": {
    "slideshow": {
     "slide_type": "slide"
    }
   },
   "source": [
    "A cursory examination of the book yielded no other information about the data's provenance. Because the textbook refers to the data as \"simulated\" and there is no other reference to data gathering in the book, we cannot say that this data is derived from an real-world observation. It is for this reason that we conclude that the data are unreliable, because we do not know the method by which they were simulated or, if they are in fact observations, how the sampling was conducted. This means that we cannot substantiate the statistical significance of any result derived herein, because the data upon which they are founded is inherently flawed."
   ]
  },
  {
   "cell_type": "markdown",
   "metadata": {
    "slideshow": {
     "slide_type": "slide"
    }
   },
   "source": [
    "## Conclusions\n",
    "\n",
    "In the beginning of this notebook, we looked at the distributions of smoker and non-smoker charges for this dataset and saw visually that they do not appear to be from the same distribution; this was confirmed by running an A/B test on the smoker and non-smoker charges, which yielded a p-value of 0. It is because of the low p-value that we concluded in the direction of $H_A$, that the charges are _not_ from the same underlying distribution.\n",
    "\n",
    "After reproducing the original A/B test, we attempted to look at whether or not removing outliers from the smoker and non-smoker subsets would provide different, more accurate results, and found 43 outliers to remove (2 in the smoking group, 41 in the non-smoking group). After running the A/B test on the data without outliers, we concluded due to the p-value of 0 that removing outliers had no effect on the outcome (and, therefore, that $H_A$ is the hypothesis supported by the data).\n",
    "\n",
    "Finally, we considered the provenance of the dataset and traced it back to a book, _Machine Learning with R_ by Brett Lantz, and discovered that the documentation for the dataset did not describe how it was obtained, and in fact described it as \"simulated.\" It was for this reason that we determined that without an assurance of the validity of the data, we could not accept any of the results we produced with it as statistically significant.\n",
    "\n",
    "Considering the original analysis, it appears that the statistics and coding were sound. We were able to reproduce the result with the same data using some different methods, and used EDA to show visually that the conclusions made sense. In that respect, the original analysis is sound. However, because the original analysis fails to consider the provenance of its data, it makes generalizations that it cannot substantiate given the murky origin of the data upon which it is founding its claims."
   ]
  },
  {
   "cell_type": "markdown",
   "metadata": {
    "slideshow": {
     "slide_type": "slide"
    }
   },
   "source": [
    "## Sources\n",
    "\n",
    "Hickey, Walt. _41 Percent Of Fliers Think You’re Rude If You Recline Your Seat_. FiveThirtyEight, 2014. [https://fivethirtyeight.com/features/airplane-etiquette-recline-seat/](https://fivethirtyeight.com/features/airplane-etiquette-recline-seat/).\n",
    "\n",
    "Pyles, Chris. Insurance Data. Github. 12 March 2019. [https://github.com/chrispyles/jupyter/blob/master/content/notebooks/insurance/insurance.ipynb](https://github.com/chrispyles/jupyter/blob/master/content/notebooks/insurance/insurance.ipynb)."
   ]
  },
  {
   "cell_type": "code",
   "execution_count": null,
   "metadata": {},
   "outputs": [],
   "source": []
  }
 ],
 "metadata": {
  "@webio": {
   "lastCommId": null,
   "lastKernelId": null
  },
  "kernelspec": {
   "display_name": "Python 3",
   "language": "python",
   "name": "python3"
  },
  "language_info": {
   "codemirror_mode": {
    "name": "ipython",
    "version": 3
   },
   "file_extension": ".py",
   "mimetype": "text/x-python",
   "name": "python",
   "nbconvert_exporter": "python",
   "pygments_lexer": "ipython3",
   "version": "3.6.7"
  },
  "notify_time": "5"
 },
 "nbformat": 4,
 "nbformat_minor": 2
}
