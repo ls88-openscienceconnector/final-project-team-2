{
 "cells": [
  {
   "cell_type": "markdown",
   "metadata": {},
   "source": [
    "## Pre-Analysis Plan\n",
    "_Anna Burns, Howard Yan, Jordan Bailey, 20 March 2019 8:00 PM_\n",
    "\n",
    "**Table of Contents**\n",
    "\n",
    "1. [Abstract](#Abstract)\n",
    "2. [Data](#Data)\n",
    "3. [Strategy](#Strategy)\n",
    "4. [Analysis](#Analysis)\n",
    "5. [Deliverables](#Deliverables)\n",
    "6. [Sources](#Sources)\n",
    "\n",
    "### Abstract\n",
    "\n",
    "This project for L&S 88 attempts to recreate the analysis by Walt Hickey in his article _41 Percent Of Fliers Think You're Rude If You Recline Your Seat_ which analyzes a survey data set from SurveyMonkey. The purpose of this project is to attempt to reproduce the findings in the original analysis regarding what the public regards as proper plane etiquette. We will also evaluate the efficacy and reliability of this data set to qualify any conclusions that we draw. The original analysis computed statistics on survey data in an attempt to determine what the public feels is proper airplane etiquette. In our recreation of this analysis, we will attempt to reproduce the results and comment on statistical errors and unconsidered problems that the original analysis did not cover. We also comment on the reliability of the data set, given that it is from SurveyMonkey and may not be from a reliable source.\n",
    "\n",
    "### Data\n",
    "\n",
    "The data is from the [Github repository](https://github.com/fivethirtyeight/data/blob/master/flying-etiquette-survey/flying-etiquette.csv) containing the original analysis, and it came from SurveyMonkey before that. Research into the data shows that its original provenance is from a survey through SurveyMonkey by Walt Hickey. According to Hickey, \"we ran a SurveyMonkey Audience poll Aug. 29 and 30 \\[2014\\], and asked air passengers what’s cool and what isn’t. We had 1,040 respondents, 874 of whom had flown.\" It is a CSV file and there appear to be several missing values.\n",
    "\n",
    "### Strategy\n",
    "\n",
    "To conduct the portion of our analysis that involves actual data science, we will load the data as `Table` object (from the `datascience` library) and first explore the data. This includes taking care of missing values, categorizing variables, plotting relevant numerical data, and considering core statistics of the data we are interested in. We then identify the statistics described in the article and attempt to replicate them from the given data. We will try computing the statistics with ommitting the missing values and with treating the missing values as the average response. Finally, in our analysis, we will research the source of the data and evaluate it for statistical significance.\n",
    "\n",
    "### Analysis\n",
    "\n",
    "The test statistics in the article are concerning the percentages of survey respondents who feel a specific way about issues in airplane etiquette. The calculations should be straightforward, depending heavily on how missing values are treated in the data.\n",
    "\n",
    "To examine the reliability of the data, we trace the data set back to its original source and evaluate its method of production and its original intended purpose. The data was retrieved from GitHub for the original analysis, and because it was a survey of opportunity without randomness, it brings into question the validity of any conclusions drawn from the data. \n",
    "\n",
    "### Deliverables\n",
    "\n",
    "At the end of this project, we will present our findings in a presentation using the RISE extension for Jupyter Notebooks. This presentation is encoded in the `flying-etiquette` Jupyter Notebook, listed below. The main deliverables for this project are the following files:\n",
    "\n",
    "```\n",
    "| final-project\n",
    "    | data\n",
    "        | - flying-etiquette.csv               # original data\n",
    "    | notebooks\n",
    "        | - flying-etiquette.ipynb             # our reproduction analysis in datascience\n",
    "    | output\n",
    "        | - flying-etiquette.csv               # original data, for demo purposes      \n",
    "```\n",
    "\n",
    "All other files in this repository are supporting files that will not be covered in the presentation.\n",
    "\n",
    "### Sources\n",
    "\n",
    "Hickey, Walt. _41 Percent Of Fliers Think You’re Rude If You Recline Your Seat_. FiveThirtyEight, 2014. [https://fivethirtyeight.com/features/airplane-etiquette-recline-seat/](https://fivethirtyeight.com/features/airplane-etiquette-recline-seat/)."
   ]
  },
  {
   "cell_type": "code",
   "execution_count": null,
   "metadata": {},
   "outputs": [],
   "source": []
  }
 ],
 "metadata": {
  "kernelspec": {
   "display_name": "Python 3",
   "language": "python",
   "name": "python3"
  },
  "language_info": {
   "codemirror_mode": {
    "name": "ipython",
    "version": 3
   },
   "file_extension": ".py",
   "mimetype": "text/x-python",
   "name": "python",
   "nbconvert_exporter": "python",
   "pygments_lexer": "ipython3",
   "version": "3.6.7"
  }
 },
 "nbformat": 4,
 "nbformat_minor": 2
}
